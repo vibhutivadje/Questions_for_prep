{
 "cells": [
  {
   "cell_type": "markdown",
   "metadata": {},
   "source": [
    "# 1. Given a list of stock prices in ascending order by datetime, write a function that outputs the max profit by buying and selling at a specific interval."
   ]
  },
  {
   "cell_type": "code",
   "execution_count": 4,
   "metadata": {},
   "outputs": [
    {
     "data": {
      "text/plain": [
       "27"
      ]
     },
     "execution_count": 4,
     "metadata": {},
     "output_type": "execute_result"
    }
   ],
   "source": [
    "def get_max_profit(stock_prices):\n",
    "    \n",
    "    max_price = 0\n",
    "    for i in range(len(stock_prices)-1):\n",
    "        for j in range(i+1, len(stock_prices)):\n",
    "            diff = stock_prices[j]-stock_prices[i]\n",
    "            if (max_price < diff):\n",
    "                max_price = diff\n",
    "    return max_price\n",
    "get_max_profit(stock_prices = [10,5,20,32,25,12])"
   ]
  },
  {
   "cell_type": "markdown",
   "metadata": {},
   "source": [
    "# 2. Making it harder, given a list of stock prices and date times in ascending order by datetime, write a function that outputs the profit and start and end dates to buy and sell for max profit."
   ]
  },
  {
   "cell_type": "code",
   "execution_count": null,
   "metadata": {},
   "outputs": [],
   "source": [
    "def get_max_profit(stock_prices):\n",
    "    \n",
    "    max_price = 0\n",
    "    for i in range(len(stock_prices)-1):\n",
    "        for j in range(i+1, len(stock_prices)):\n",
    "            diff = stock_prices[j]-stock_prices[i]\n",
    "            if (max_price < diff):\n",
    "                max_price = diff\n",
    "    return max_price\n",
    "\n",
    "dts = [\n",
    "    '2019-01-01', \n",
    "    '2019-01-02',\n",
    "    '2019-01-03',\n",
    "    '2019-01-04',\n",
    "    '2019-01-05',\n",
    "    '2019-01-06',\n",
    "]\n",
    "get_max_profit(stock_prices = [10,5,20,32,25,12], dts= )"
   ]
  },
  {
   "cell_type": "code",
   "execution_count": 5,
   "metadata": {},
   "outputs": [
    {
     "data": {
      "text/plain": [
       "(27, '2019-01-02', '2019-01-04')"
      ]
     },
     "execution_count": 5,
     "metadata": {},
     "output_type": "execute_result"
    }
   ],
   "source": [
    "def get_profit_dates(stock_prices, dts):\n",
    "    min_val = min(stock_prices)\n",
    "    max_val = max(stock_prices)\n",
    "    diff = max_val - min_val\n",
    "    min_val_idx = stock_prices.index(min_val)\n",
    "    max_val_idx = stock_prices.index(max_val)\n",
    "    return diff, dts[min_val_idx], dts[max_val_idx]\n",
    " \n",
    "dts = [\n",
    "    '2019-01-01', \n",
    "    '2019-01-02',\n",
    "    '2019-01-03',\n",
    "    '2019-01-04',\n",
    "    '2019-01-05',\n",
    "    '2019-01-06',\n",
    "]  \n",
    "stock_prices = [10,5,20,32,25,12]\n",
    "get_profit_dates(stock_prices, dts)"
   ]
  },
  {
   "cell_type": "code",
   "execution_count": null,
   "metadata": {},
   "outputs": [],
   "source": []
  }
 ],
 "metadata": {
  "kernelspec": {
   "display_name": "Python 3",
   "language": "python",
   "name": "python3"
  },
  "language_info": {
   "codemirror_mode": {
    "name": "ipython",
    "version": 3
   },
   "file_extension": ".py",
   "mimetype": "text/x-python",
   "name": "python",
   "nbconvert_exporter": "python",
   "pygments_lexer": "ipython3",
   "version": "3.7.7"
  }
 },
 "nbformat": 4,
 "nbformat_minor": 4
}
