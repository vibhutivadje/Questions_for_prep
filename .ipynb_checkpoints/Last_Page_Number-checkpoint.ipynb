{
 "cells": [
  {
   "cell_type": "markdown",
   "metadata": {},
   "source": [
    "# Question"
   ]
  },
  {
   "cell_type": "markdown",
   "metadata": {},
   "source": [
    "We're given a string of integers that represent page numbers.\n",
    "\n",
    "Write a function to return the last page number in the string. If the string of integers is not in correct page order, return the last number in order."
   ]
  },
  {
   "cell_type": "markdown",
   "metadata": {},
   "source": [
    "input = '12345'<br>\n",
    "output = 5<br>\n",
    "\n",
    "input = '12345678910111213'<br>\n",
    "output = 13<br>\n",
    "\n",
    "input = '1235678'<br>\n",
    "output = 3<br>"
   ]
  },
  {
   "cell_type": "markdown",
   "metadata": {},
   "source": [
    "## Solution-1"
   ]
  },
  {
   "cell_type": "code",
   "execution_count": 11,
   "metadata": {},
   "outputs": [
    {
     "data": {
      "text/plain": [
       "13"
      ]
     },
     "execution_count": 11,
     "metadata": {},
     "output_type": "execute_result"
    }
   ],
   "source": [
    "def last_page_number(string):\n",
    "    pos=0\n",
    "    page=0\n",
    "    \n",
    "#     print(len(string))\n",
    "    while pos < len(string):\n",
    "        page_str=str(page+1)\n",
    "        if string[pos:pos+len(page_str)]==page_str:\n",
    "            pos+=len(page_str)\n",
    "            page+=1\n",
    "        else:\n",
    "            break\n",
    "    return page\n",
    "last_page_number(string = '12345678910111213')\n",
    "# last_page_number(string = '1235678')"
   ]
  },
  {
   "cell_type": "code",
   "execution_count": null,
   "metadata": {},
   "outputs": [],
   "source": []
  }
 ],
 "metadata": {
  "kernelspec": {
   "display_name": "Python 3",
   "language": "python",
   "name": "python3"
  },
  "language_info": {
   "codemirror_mode": {
    "name": "ipython",
    "version": 3
   },
   "file_extension": ".py",
   "mimetype": "text/x-python",
   "name": "python",
   "nbconvert_exporter": "python",
   "pygments_lexer": "ipython3",
   "version": "3.7.7"
  }
 },
 "nbformat": 4,
 "nbformat_minor": 4
}
