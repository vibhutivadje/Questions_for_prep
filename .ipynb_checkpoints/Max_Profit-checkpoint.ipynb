{
 "cells": [
  {
   "cell_type": "markdown",
   "id": "e409658b",
   "metadata": {},
   "source": [
    "# Question from InterviewQuery:"
   ]
  },
  {
   "cell_type": "markdown",
   "id": "0bd22646",
   "metadata": {},
   "source": [
    "Given a list of stock prices in ascending order by datetime, write a function that outputs the max profit by buying and selling at a specific interval. stock_prices = [10,5,20,32,25,12] dts = [ '2019-01-01', '2019-01-02', '2019-01-03', '2019-01-04', '2019-01-05', '2019-01-06', ]"
   ]
  },
  {
   "cell_type": "code",
   "execution_count": 1,
   "id": "d4be0d38",
   "metadata": {},
   "outputs": [],
   "source": [
    "from typing import List\n",
    "\n",
    "def max_profit(stock_prices: List[int], dts: List[str]) -> int:\n",
    "    if len(stock_prices) < 2:\n",
    "        return 0\n",
    "\n",
    "    max_profit = 0\n",
    "    min_price = stock_prices[0]\n",
    "\n",
    "    for i in range(1, len(stock_prices)):\n",
    "        if stock_prices[i] < min_price:\n",
    "            min_price = stock_prices[i]\n",
    "        elif stock_prices[i] - min_price > max_profit:\n",
    "            max_profit = stock_prices[i] - min_price\n",
    "\n",
    "    return max_profit"
   ]
  },
  {
   "cell_type": "code",
   "execution_count": 2,
   "id": "76569321",
   "metadata": {},
   "outputs": [
    {
     "name": "stdout",
     "output_type": "stream",
     "text": [
      "27\n"
     ]
    }
   ],
   "source": [
    "stock_prices = [10,5,20,32,25,12] \n",
    "dts = [ '2019-01-01', '2019-01-02', '2019-01-03', '2019-01-04', '2019-01-05', '2019-01-06', ]\n",
    "print(max_profit(stock_prices, dts))"
   ]
  },
  {
   "cell_type": "code",
   "execution_count": null,
   "id": "2a32c167",
   "metadata": {},
   "outputs": [],
   "source": []
  }
 ],
 "metadata": {
  "kernelspec": {
   "display_name": "Python 3 (ipykernel)",
   "language": "python",
   "name": "python3"
  },
  "language_info": {
   "codemirror_mode": {
    "name": "ipython",
    "version": 3
   },
   "file_extension": ".py",
   "mimetype": "text/x-python",
   "name": "python",
   "nbconvert_exporter": "python",
   "pygments_lexer": "ipython3",
   "version": "3.9.7"
  }
 },
 "nbformat": 4,
 "nbformat_minor": 5
}
