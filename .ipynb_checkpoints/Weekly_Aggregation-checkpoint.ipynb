{
 "cells": [
  {
   "cell_type": "markdown",
   "metadata": {},
   "source": [
    "## Question"
   ]
  },
  {
   "cell_type": "markdown",
   "metadata": {},
   "source": [
    "Given a list of timestamps in sequential order, return a list of lists grouped by week (7 days) using the first timestamp as the starting point.\n",
    "\n"
   ]
  },
  {
   "cell_type": "markdown",
   "metadata": {},
   "source": [
    "Example:<br>\n",
    "\n",
    "ts = [<br>\n",
    "    '2019-01-01', <br>\n",
    "    '2019-01-02',<br>\n",
    "    '2019-01-08', <br>\n",
    "    '2019-02-01', <br>\n",
    "    '2019-02-02',<br>\n",
    "    '2019-02-05',<br>\n",
    "]<br>\n",
    "\n",
    "output = [<br>\n",
    "    ['2019-01-01', '2019-01-02'], <br>\n",
    "    ['2019-01-08'], <br>\n",
    "    ['2019-02-01', '2019-02-02'],<br>\n",
    "    ['2019-02-05'],<br>\n",
    "]<br>"
   ]
  },
  {
   "cell_type": "code",
   "execution_count": null,
   "metadata": {},
   "outputs": [],
   "source": []
  }
 ],
 "metadata": {
  "kernelspec": {
   "display_name": "Python 3",
   "language": "python",
   "name": "python3"
  },
  "language_info": {
   "codemirror_mode": {
    "name": "ipython",
    "version": 3
   },
   "file_extension": ".py",
   "mimetype": "text/x-python",
   "name": "python",
   "nbconvert_exporter": "python",
   "pygments_lexer": "ipython3",
   "version": "3.7.7"
  }
 },
 "nbformat": 4,
 "nbformat_minor": 4
}
