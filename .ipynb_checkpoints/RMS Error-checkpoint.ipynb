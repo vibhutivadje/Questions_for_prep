{
 "cells": [
  {
   "cell_type": "markdown",
   "metadata": {},
   "source": [
    "# Question"
   ]
  },
  {
   "cell_type": "markdown",
   "metadata": {},
   "source": [
    "Write a function to calculate the root mean squared error of a regression model. The function should take in two lists, one that represents the predictions and another with the target values."
   ]
  },
  {
   "cell_type": "markdown",
   "metadata": {},
   "source": [
    "Example: <br>\n",
    "\n",
    "calculate_rmse([3,4,5], [3,4,5]) -> 0 <br>\n",
    "calculate_rmse([3,4,5], [5,4,3]) -> 1.63 <br>"
   ]
  },
  {
   "cell_type": "markdown",
   "metadata": {},
   "source": [
    "# Solution1"
   ]
  },
  {
   "cell_type": "code",
   "execution_count": 4,
   "metadata": {},
   "outputs": [
    {
     "data": {
      "text/plain": [
       "1.63"
      ]
     },
     "execution_count": 4,
     "metadata": {},
     "output_type": "execute_result"
    }
   ],
   "source": [
    "import math\n",
    "\n",
    "def calculate_rmse(l1, l2):\n",
    "    \n",
    "    p1 = 0\n",
    "    p2 = 0\n",
    "    diff = 0\n",
    "    \n",
    "    while p1<len(l1) and p2<len(l2):\n",
    "        diff = diff + (l1[p1] - l2[p2])**2\n",
    "        p1 += 1\n",
    "        p2 +=1\n",
    "    \n",
    "    return round(math.sqrt(diff/len(l1)),2)\n",
    "\n",
    "calculate_rmse(l1=[3,4,5], l2=[5,4,3])"
   ]
  },
  {
   "cell_type": "code",
   "execution_count": 2,
   "metadata": {},
   "outputs": [
    {
     "data": {
      "text/plain": [
       "6"
      ]
     },
     "execution_count": 2,
     "metadata": {},
     "output_type": "execute_result"
    }
   ],
   "source": [
    "3*2"
   ]
  },
  {
   "cell_type": "code",
   "execution_count": null,
   "metadata": {},
   "outputs": [],
   "source": []
  }
 ],
 "metadata": {
  "kernelspec": {
   "display_name": "Python 3",
   "language": "python",
   "name": "python3"
  },
  "language_info": {
   "codemirror_mode": {
    "name": "ipython",
    "version": 3
   },
   "file_extension": ".py",
   "mimetype": "text/x-python",
   "name": "python",
   "nbconvert_exporter": "python",
   "pygments_lexer": "ipython3",
   "version": "3.7.7"
  }
 },
 "nbformat": 4,
 "nbformat_minor": 4
}
