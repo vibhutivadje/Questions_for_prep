{
 "cells": [
  {
   "cell_type": "markdown",
   "id": "862b6ae5",
   "metadata": {},
   "source": [
    "Create a list that includes values from 12 to 27 (inclusive). Then create a loop that goes through the list and returns a dictionary with the number and whether that number was odd or even,"
   ]
  },
  {
   "cell_type": "code",
   "execution_count": 7,
   "id": "5d04dc7c",
   "metadata": {},
   "outputs": [
    {
     "name": "stdout",
     "output_type": "stream",
     "text": [
      "{12: 'Even', 13: 'Odd', 14: 'Even', 15: 'Odd', 16: 'Even', 17: 'Odd', 18: 'Even', 19: 'Odd', 20: 'Even', 21: 'Odd', 22: 'Even', 23: 'Odd', 24: 'Even', 25: 'Odd', 26: 'Even', 27: 'Odd'}\n"
     ]
    }
   ],
   "source": [
    "num_list = list(range(12, 28))\n",
    "d = {}\n",
    "\n",
    "for n in num_list:\n",
    "    if n%2 == 0:\n",
    "        d[n]='Even'\n",
    "    else:\n",
    "        d[n]='Odd'\n",
    "print(d)\n",
    "# print(num_list)"
   ]
  },
  {
   "cell_type": "markdown",
   "id": "ffe6389b",
   "metadata": {},
   "source": [
    "How many times can we double 13 before it passes 1,300?"
   ]
  },
  {
   "cell_type": "code",
   "execution_count": 9,
   "id": "39f183f9",
   "metadata": {},
   "outputs": [
    {
     "name": "stdout",
     "output_type": "stream",
     "text": [
      "13 has been doubled 0 times and is now 13.\n",
      "13 has been doubled 1 times and is now 26.\n",
      "13 has been doubled 2 times and is now 52.\n",
      "13 has been doubled 3 times and is now 104.\n",
      "13 has been doubled 4 times and is now 208.\n",
      "13 has been doubled 5 times and is now 416.\n",
      "13 has been doubled 6 times and is now 832.\n"
     ]
    }
   ],
   "source": [
    "x = 13\n",
    "counter = 0\n",
    "\n",
    "while x<1300:\n",
    "    print(f\"13 has been doubled {counter} times and is now {x}.\")\n",
    "    x*=2\n",
    "    counter += 1"
   ]
  },
  {
   "cell_type": "code",
   "execution_count": null,
   "id": "4d1d38ad",
   "metadata": {},
   "outputs": [],
   "source": []
  }
 ],
 "metadata": {
  "kernelspec": {
   "display_name": "Python 3 (ipykernel)",
   "language": "python",
   "name": "python3"
  },
  "language_info": {
   "codemirror_mode": {
    "name": "ipython",
    "version": 3
   },
   "file_extension": ".py",
   "mimetype": "text/x-python",
   "name": "python",
   "nbconvert_exporter": "python",
   "pygments_lexer": "ipython3",
   "version": "3.9.7"
  }
 },
 "nbformat": 4,
 "nbformat_minor": 5
}
