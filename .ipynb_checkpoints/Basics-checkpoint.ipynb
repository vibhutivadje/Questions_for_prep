{
 "cells": [
  {
   "cell_type": "markdown",
   "id": "07760c88",
   "metadata": {},
   "source": [
    "Create a list that includes values from 12 to 27 (inclusive). Then create a loop that goes through the list and returns a dictionary with the number and whether that number was odd or even,"
   ]
  },
  {
   "cell_type": "code",
   "execution_count": 7,
   "id": "a100b4d0",
   "metadata": {},
   "outputs": [
    {
     "name": "stdout",
     "output_type": "stream",
     "text": [
      "{12: 'Even', 13: 'Odd', 14: 'Even', 15: 'Odd', 16: 'Even', 17: 'Odd', 18: 'Even', 19: 'Odd', 20: 'Even', 21: 'Odd', 22: 'Even', 23: 'Odd', 24: 'Even', 25: 'Odd', 26: 'Even', 27: 'Odd'}\n"
     ]
    }
   ],
   "source": [
    "num_list = list(range(12, 28))\n",
    "d = {}\n",
    "\n",
    "for n in num_list:\n",
    "    if n%2 == 0:\n",
    "        d[n]='Even'\n",
    "    else:\n",
    "        d[n]='Odd'\n",
    "print(d)\n",
    "# print(num_list)"
   ]
  },
  {
   "cell_type": "markdown",
   "id": "5625505b",
   "metadata": {},
   "source": [
    "How many times can we double 13 before it passes 1,300?"
   ]
  },
  {
   "cell_type": "code",
   "execution_count": 9,
   "id": "8cf91208",
   "metadata": {},
   "outputs": [
    {
     "name": "stdout",
     "output_type": "stream",
     "text": [
      "13 has been doubled 0 times and is now 13.\n",
      "13 has been doubled 1 times and is now 26.\n",
      "13 has been doubled 2 times and is now 52.\n",
      "13 has been doubled 3 times and is now 104.\n",
      "13 has been doubled 4 times and is now 208.\n",
      "13 has been doubled 5 times and is now 416.\n",
      "13 has been doubled 6 times and is now 832.\n"
     ]
    }
   ],
   "source": [
    "x = 13\n",
    "counter = 0\n",
    "\n",
    "while x<1300:\n",
    "    print(f\"13 has been doubled {counter} times and is now {x}.\")\n",
    "    x*=2\n",
    "    counter += 1"
   ]
  },
  {
   "cell_type": "markdown",
   "id": "98cf7239",
   "metadata": {},
   "source": [
    "Define a function that determines whether a number is divisible by 3 or not and then test it on 6 and 8.\n",
    "\n"
   ]
  },
  {
   "cell_type": "code",
   "execution_count": 11,
   "id": "d440a5f8",
   "metadata": {},
   "outputs": [
    {
     "name": "stdout",
     "output_type": "stream",
     "text": [
      "3 is divisible by 3\n"
     ]
    }
   ],
   "source": [
    "def div_by_3(num):\n",
    "    if num%3==0:\n",
    "        print(f\"{num} is divisible by 3\")\n",
    "    else:\n",
    "        print(f\"{num} is indivisible by 3\")\n",
    "        \n",
    "div_by_3(3)"
   ]
  },
  {
   "cell_type": "code",
   "execution_count": null,
   "id": "ad9c5b68",
   "metadata": {},
   "outputs": [],
   "source": []
  }
 ],
 "metadata": {
  "kernelspec": {
   "display_name": "Python 3 (ipykernel)",
   "language": "python",
   "name": "python3"
  },
  "language_info": {
   "codemirror_mode": {
    "name": "ipython",
    "version": 3
   },
   "file_extension": ".py",
   "mimetype": "text/x-python",
   "name": "python",
   "nbconvert_exporter": "python",
   "pygments_lexer": "ipython3",
   "version": "3.9.7"
  }
 },
 "nbformat": 4,
 "nbformat_minor": 5
}
