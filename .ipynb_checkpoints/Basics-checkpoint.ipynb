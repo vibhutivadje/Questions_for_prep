{
 "cells": [
  {
   "cell_type": "markdown",
   "id": "98d51e5f",
   "metadata": {},
   "source": [
    "Create a list that includes values from 12 to 27 (inclusive). Then create a loop that goes through the list and returns a dictionary with the number and whether that number was odd or even,"
   ]
  },
  {
   "cell_type": "code",
   "execution_count": 7,
   "id": "00c43745",
   "metadata": {},
   "outputs": [
    {
     "name": "stdout",
     "output_type": "stream",
     "text": [
      "{12: 'Even', 13: 'Odd', 14: 'Even', 15: 'Odd', 16: 'Even', 17: 'Odd', 18: 'Even', 19: 'Odd', 20: 'Even', 21: 'Odd', 22: 'Even', 23: 'Odd', 24: 'Even', 25: 'Odd', 26: 'Even', 27: 'Odd'}\n"
     ]
    }
   ],
   "source": [
    "num_list = list(range(12, 28))\n",
    "d = {}\n",
    "\n",
    "for n in num_list:\n",
    "    if n%2 == 0:\n",
    "        d[n]='Even'\n",
    "    else:\n",
    "        d[n]='Odd'\n",
    "print(d)\n",
    "# print(num_list)"
   ]
  },
  {
   "cell_type": "markdown",
   "id": "6bb4047a",
   "metadata": {},
   "source": [
    "How many times can we double 13 before it passes 1,300?"
   ]
  },
  {
   "cell_type": "code",
   "execution_count": 9,
   "id": "8a362c28",
   "metadata": {},
   "outputs": [
    {
     "name": "stdout",
     "output_type": "stream",
     "text": [
      "13 has been doubled 0 times and is now 13.\n",
      "13 has been doubled 1 times and is now 26.\n",
      "13 has been doubled 2 times and is now 52.\n",
      "13 has been doubled 3 times and is now 104.\n",
      "13 has been doubled 4 times and is now 208.\n",
      "13 has been doubled 5 times and is now 416.\n",
      "13 has been doubled 6 times and is now 832.\n"
     ]
    }
   ],
   "source": [
    "x = 13\n",
    "counter = 0\n",
    "\n",
    "while x<1300:\n",
    "    print(f\"13 has been doubled {counter} times and is now {x}.\")\n",
    "    x*=2\n",
    "    counter += 1"
   ]
  },
  {
   "cell_type": "markdown",
   "id": "2b4948e6",
   "metadata": {},
   "source": [
    "Define a function that determines whether a number is divisible by 3 or not and then test it on 6 and 8.\n",
    "\n"
   ]
  },
  {
   "cell_type": "code",
   "execution_count": 13,
   "id": "98b34385",
   "metadata": {},
   "outputs": [
    {
     "name": "stdout",
     "output_type": "stream",
     "text": [
      "8 is indivisible by 3\n"
     ]
    }
   ],
   "source": [
    "def div_by_3(num):\n",
    "    if num%3==0:\n",
    "        print(f\"{num} is divisible by 3\")\n",
    "    else:\n",
    "        print(f\"{num} is indivisible by 3\")\n",
    "        \n",
    "# div_by_3(3)\n",
    "# div_by_3(6)\n",
    "div_by_3(8)"
   ]
  },
  {
   "cell_type": "markdown",
   "id": "466b805b",
   "metadata": {},
   "source": [
    "<B>Function Scope:</B>"
   ]
  },
  {
   "cell_type": "code",
   "execution_count": 28,
   "id": "f0645e8b",
   "metadata": {},
   "outputs": [
    {
     "name": "stdout",
     "output_type": "stream",
     "text": [
      "5\n",
      "9\n"
     ]
    }
   ],
   "source": [
    "x = 5\n",
    "def q_2():\n",
    "    global x\n",
    "    x = 9\n",
    "    return x\n",
    "\n",
    "print(x)\n",
    "print(q_2())"
   ]
  },
  {
   "cell_type": "code",
   "execution_count": 33,
   "id": "49be23fd",
   "metadata": {},
   "outputs": [
    {
     "name": "stdout",
     "output_type": "stream",
     "text": [
      "5\n"
     ]
    }
   ],
   "source": [
    "y = 5\n",
    "def q_3():\n",
    "    y = 11\n",
    "    return z\n",
    "\n",
    "print(y)\n",
    "# print(q_3())"
   ]
  },
  {
   "cell_type": "markdown",
   "id": "4a166d6f",
   "metadata": {},
   "source": [
    "Define a function named outer_function that takes argument x and includes another function nested inside named inner_function, which takes argument y. The inner_function returns the result of x * y. Test the function when x is 4 and y is 6 and therefore we expect a result of 24."
   ]
  },
  {
   "cell_type": "code",
   "execution_count": 37,
   "id": "967ffbef",
   "metadata": {},
   "outputs": [
    {
     "data": {
      "text/plain": [
       "24"
      ]
     },
     "execution_count": 37,
     "metadata": {},
     "output_type": "execute_result"
    }
   ],
   "source": [
    "def outer_function(x):\n",
    "    def inner_function(y):\n",
    "        return x * y\n",
    "    return inner_function\n",
    "\n",
    "a = outer_function(4)\n",
    "a(6)"
   ]
  },
  {
   "cell_type": "markdown",
   "id": "042a25df",
   "metadata": {},
   "source": [
    "Define a function that takes x and y arguments and returns x to the power of y. When y is not provided, it should be 2 by default. Test it on a few scenarios to see how default arguments work."
   ]
  },
  {
   "cell_type": "code",
   "execution_count": 38,
   "id": "013e30ae",
   "metadata": {},
   "outputs": [
    {
     "name": "stdout",
     "output_type": "stream",
     "text": [
      "q_5(4, 3) returns: 64\n",
      "q_5(4) uses the default value of 2 for y and returns: 16\n"
     ]
    }
   ],
   "source": [
    "def q_5(x, y = 2):\n",
    "    return x ** y\n",
    "\n",
    "print(f\"q_5(4, 3) returns: {q_5(4, 3)}\")\n",
    "print(f\"q_5(4) uses the default value of 2 for y and returns: {q_5(4)}\")"
   ]
  },
  {
   "cell_type": "markdown",
   "id": "79e573b7",
   "metadata": {},
   "source": [
    "When a value is divided by zero, Python throws an error stating ZeroDivisionError: division by zero - give it a try if you have not come across it before. Define function q_7 that takes two arguments and divides one by the other. When the denominator is zero, instead of Python's usual error message, print division by zero is not possible. Test out the function on a few scenarios to make sure the function behaves as intended."
   ]
  },
  {
   "cell_type": "code",
   "execution_count": 39,
   "id": "bca187c0",
   "metadata": {},
   "outputs": [
    {
     "name": "stdout",
     "output_type": "stream",
     "text": [
      "q_7(2, 5) returns: 0.4\n",
      "\n",
      "division by zero is not possible\n",
      "q_7(2, 0) returns: None\n"
     ]
    }
   ],
   "source": [
    "def q_7(x, y):\n",
    "    try:\n",
    "        x / y\n",
    "    except ZeroDivisionError:\n",
    "        print(\"division by zero is not possible\")\n",
    "    else:\n",
    "        return x / y\n",
    "    \n",
    "print(f\"q_7(2, 5) returns: {q_7(2, 5)}\\n\")\n",
    "print(f\"q_7(2, 0) returns: {q_7(2, 0)}\")"
   ]
  },
  {
   "cell_type": "markdown",
   "id": "54252875",
   "metadata": {},
   "source": [
    "<B>Exception Handling</B>"
   ]
  },
  {
   "cell_type": "markdown",
   "id": "ea1b3529",
   "metadata": {},
   "source": [
    "Exceptions in Python is when an error happens, such as dividing a value by zero, which would generate a ZeroDivisionError: division by zero. In the following examples, we will focus on how to use try and except to convey specific information when an exception occurs.\n",
    "\n",
    "There are a few key words to learn for this topic, which will be more solidified after going through the exercise questions.\n",
    "\n",
    "<B>try block</B> is to test a block of code for errors.<br>\n",
    "<B>except block</B> is to handle the error.<br>\n",
    "<B>else block</B> is to execute code in the absence of an error.<br>\n",
    "<B>finally block</B> is executed regardless of what happened in the try block, unlike else which only happens when there are no errors."
   ]
  },
  {
   "cell_type": "markdown",
   "id": "8cd8a496",
   "metadata": {},
   "source": [
    "Question 6:\n",
    "\n",
    "Define a function named q_6 that takes two arguments and returns the multiplication of the two arguments. The function is not designed to accept any negative arguments so if any of the two arguments is negative, the function should return a ValueError() class exception that states invalid arguments in a string format. Test out the function on a few scenarios to make sure the function behaves as intended."
   ]
  },
  {
   "cell_type": "code",
   "execution_count": 35,
   "id": "9937c956",
   "metadata": {},
   "outputs": [
    {
     "name": "stdout",
     "output_type": "stream",
     "text": [
      "q_6(2, 5) returns: 10\n",
      "q_6(2, -5) returns: invalid arguments\n",
      "q_6(-2, 5) returns: invalid arguments\n",
      "q_6(-2, -5) returns: invalid arguments\n"
     ]
    }
   ],
   "source": [
    "def q_6(x, y):\n",
    "    try:\n",
    "        if x < 0 or y < 0:\n",
    "            raise ValueError(\"invalid arguments\")\n",
    "        return x * y\n",
    "    except ValueError as err:\n",
    "        return str(err)\n",
    "    \n",
    "print(f\"q_6(2, 5) returns: {q_6(2, 5)}\")\n",
    "print(f\"q_6(2, -5) returns: {q_6(2, -5)}\")\n",
    "print(f\"q_6(-2, 5) returns: {q_6(-2, 5)}\")\n",
    "print(f\"q_6(-2, -5) returns: {q_6(-2, -5)}\")"
   ]
  },
  {
   "cell_type": "code",
   "execution_count": 16,
   "id": "415e6e37",
   "metadata": {},
   "outputs": [],
   "source": [
    "#import lib\n",
    "\n",
    "import numpy as np\n",
    "import pandas as pd"
   ]
  },
  {
   "cell_type": "markdown",
   "id": "3d02dadd",
   "metadata": {},
   "source": [
    "Create the data to be included in the dataframe"
   ]
  },
  {
   "cell_type": "code",
   "execution_count": 17,
   "id": "a6bbb3ca",
   "metadata": {},
   "outputs": [],
   "source": [
    "participants = {\n",
    "    'gender':['female', 'female', 'male', 'female', 'female', 'male', 'male', 'male', 'female'],\n",
    "    'age': [26, 77, 39, 54, 55, 63, 28, 33, 49]\n",
    "}"
   ]
  },
  {
   "cell_type": "markdown",
   "id": "fd605d37",
   "metadata": {},
   "source": [
    "Create the dataframe"
   ]
  },
  {
   "cell_type": "code",
   "execution_count": 18,
   "id": "f7ac061a",
   "metadata": {},
   "outputs": [
    {
     "data": {
      "text/html": [
       "<div>\n",
       "<style scoped>\n",
       "    .dataframe tbody tr th:only-of-type {\n",
       "        vertical-align: middle;\n",
       "    }\n",
       "\n",
       "    .dataframe tbody tr th {\n",
       "        vertical-align: top;\n",
       "    }\n",
       "\n",
       "    .dataframe thead th {\n",
       "        text-align: right;\n",
       "    }\n",
       "</style>\n",
       "<table border=\"1\" class=\"dataframe\">\n",
       "  <thead>\n",
       "    <tr style=\"text-align: right;\">\n",
       "      <th></th>\n",
       "      <th>gender</th>\n",
       "      <th>age</th>\n",
       "    </tr>\n",
       "  </thead>\n",
       "  <tbody>\n",
       "    <tr>\n",
       "      <th>0</th>\n",
       "      <td>female</td>\n",
       "      <td>26</td>\n",
       "    </tr>\n",
       "    <tr>\n",
       "      <th>1</th>\n",
       "      <td>female</td>\n",
       "      <td>77</td>\n",
       "    </tr>\n",
       "    <tr>\n",
       "      <th>2</th>\n",
       "      <td>male</td>\n",
       "      <td>39</td>\n",
       "    </tr>\n",
       "    <tr>\n",
       "      <th>3</th>\n",
       "      <td>female</td>\n",
       "      <td>54</td>\n",
       "    </tr>\n",
       "    <tr>\n",
       "      <th>4</th>\n",
       "      <td>female</td>\n",
       "      <td>55</td>\n",
       "    </tr>\n",
       "    <tr>\n",
       "      <th>5</th>\n",
       "      <td>male</td>\n",
       "      <td>63</td>\n",
       "    </tr>\n",
       "    <tr>\n",
       "      <th>6</th>\n",
       "      <td>male</td>\n",
       "      <td>28</td>\n",
       "    </tr>\n",
       "    <tr>\n",
       "      <th>7</th>\n",
       "      <td>male</td>\n",
       "      <td>33</td>\n",
       "    </tr>\n",
       "    <tr>\n",
       "      <th>8</th>\n",
       "      <td>female</td>\n",
       "      <td>49</td>\n",
       "    </tr>\n",
       "  </tbody>\n",
       "</table>\n",
       "</div>"
      ],
      "text/plain": [
       "   gender  age\n",
       "0  female   26\n",
       "1  female   77\n",
       "2    male   39\n",
       "3  female   54\n",
       "4  female   55\n",
       "5    male   63\n",
       "6    male   28\n",
       "7    male   33\n",
       "8  female   49"
      ]
     },
     "execution_count": 18,
     "metadata": {},
     "output_type": "execute_result"
    }
   ],
   "source": [
    "df = pd.DataFrame(participants)\n",
    "df"
   ]
  },
  {
   "cell_type": "markdown",
   "id": "af41fc78",
   "metadata": {},
   "source": [
    "How many rows and columns are included in the dataframe?"
   ]
  },
  {
   "cell_type": "code",
   "execution_count": 19,
   "id": "b550954d",
   "metadata": {},
   "outputs": [
    {
     "name": "stdout",
     "output_type": "stream",
     "text": [
      "there are 9 rows and 2 columns in the dataframe.\n"
     ]
    }
   ],
   "source": [
    "print(f\"there are {df.shape[0]} rows and {df.shape[1]} columns in the dataframe.\")"
   ]
  },
  {
   "cell_type": "markdown",
   "id": "c5092362",
   "metadata": {},
   "source": [
    "What is the average age of the participants?"
   ]
  },
  {
   "cell_type": "code",
   "execution_count": 20,
   "id": "b4bdc2ae",
   "metadata": {},
   "outputs": [
    {
     "data": {
      "text/plain": [
       "47.111111111111114"
      ]
     },
     "execution_count": 20,
     "metadata": {},
     "output_type": "execute_result"
    }
   ],
   "source": [
    "df[\"age\"].mean()"
   ]
  },
  {
   "cell_type": "code",
   "execution_count": 21,
   "id": "2bd040db",
   "metadata": {},
   "outputs": [
    {
     "data": {
      "text/plain": [
       "47.111111111111114"
      ]
     },
     "execution_count": 21,
     "metadata": {},
     "output_type": "execute_result"
    }
   ],
   "source": [
    "# Approach 2\n",
    "np.mean(df[\"age\"])"
   ]
  },
  {
   "cell_type": "code",
   "execution_count": 22,
   "id": "756d2bf3",
   "metadata": {},
   "outputs": [
    {
     "data": {
      "text/plain": [
       "5"
      ]
     },
     "execution_count": 22,
     "metadata": {},
     "output_type": "execute_result"
    }
   ],
   "source": [
    "df['gender'][df['gender']=='female'].count()"
   ]
  },
  {
   "cell_type": "markdown",
   "id": "90b126f2",
   "metadata": {},
   "source": [
    "How many total male participants are there, and how many of them are older than 30 years old?"
   ]
  },
  {
   "cell_type": "code",
   "execution_count": 24,
   "id": "fd1247d7",
   "metadata": {},
   "outputs": [
    {
     "name": "stdout",
     "output_type": "stream",
     "text": [
      "There are 4 total male participants.\n",
      "\n"
     ]
    }
   ],
   "source": [
    "total_male_participants = df['gender'][df['gender']=='male'].count()\n",
    "print(f\"There are {total_male_participants} total male participants.\\n\")\n"
   ]
  },
  {
   "cell_type": "code",
   "execution_count": 26,
   "id": "4904530c",
   "metadata": {},
   "outputs": [
    {
     "name": "stdout",
     "output_type": "stream",
     "text": [
      "There are 3 males participants above age of 30.\n"
     ]
    }
   ],
   "source": [
    "male_above_30 = df['gender'][(df['gender']=='male')&(df['age']>30)].count()\n",
    "print(f\"There are {male_above_30} males participants above age of 30.\")"
   ]
  },
  {
   "cell_type": "markdown",
   "id": "d9a4a812",
   "metadata": {},
   "source": [
    "<B>Lambda function</B>"
   ]
  },
  {
   "cell_type": "markdown",
   "id": "589931ee",
   "metadata": {},
   "source": [
    "Create a lambda function named q_9 that takes one argument and returns that argument to the power of 2."
   ]
  },
  {
   "cell_type": "code",
   "execution_count": 42,
   "id": "6b31dfc2",
   "metadata": {},
   "outputs": [
    {
     "data": {
      "text/plain": [
       "16"
      ]
     },
     "execution_count": 42,
     "metadata": {},
     "output_type": "execute_result"
    }
   ],
   "source": [
    "q_9 = lambda x : x**2\n",
    "q_9(4)"
   ]
  },
  {
   "cell_type": "code",
   "execution_count": 43,
   "id": "7024859d",
   "metadata": {},
   "outputs": [
    {
     "name": "stdout",
     "output_type": "stream",
     "text": [
      "q_9(3) returns: 9\n",
      "q_9(5) returns: 25\n"
     ]
    }
   ],
   "source": [
    "print(f\"q_9(3) returns: {q_9(3)}\")\n",
    "print(f\"q_9(5) returns: {q_9(5)}\")"
   ]
  },
  {
   "cell_type": "markdown",
   "id": "a48c0148",
   "metadata": {},
   "source": [
    "Create a regular function called q_10 that doubles any given argument, using a nested Lambda function. Test it to make sure it behaves as intended."
   ]
  },
  {
   "cell_type": "code",
   "execution_count": 45,
   "id": "c3459ec8",
   "metadata": {},
   "outputs": [
    {
     "name": "stdout",
     "output_type": "stream",
     "text": [
      "q_10(4) returns: 8\n",
      "q_10(-3) returns: -6\n"
     ]
    }
   ],
   "source": [
    "def f_10(n):\n",
    "    return lambda x : x * n\n",
    "\n",
    "q_10 = f_10(2)\n",
    "\n",
    "print(f\"q_10(4) returns: {q_10(4)}\")\n",
    "print(f\"q_10(-3) returns: {q_10(-3)}\")"
   ]
  },
  {
   "cell_type": "code",
   "execution_count": null,
   "id": "1876618e",
   "metadata": {},
   "outputs": [],
   "source": []
  }
 ],
 "metadata": {
  "kernelspec": {
   "display_name": "Python 3 (ipykernel)",
   "language": "python",
   "name": "python3"
  },
  "language_info": {
   "codemirror_mode": {
    "name": "ipython",
    "version": 3
   },
   "file_extension": ".py",
   "mimetype": "text/x-python",
   "name": "python",
   "nbconvert_exporter": "python",
   "pygments_lexer": "ipython3",
   "version": "3.9.7"
  }
 },
 "nbformat": 4,
 "nbformat_minor": 5
}
