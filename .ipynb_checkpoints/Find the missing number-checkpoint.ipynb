{
 "cells": [
  {
   "cell_type": "markdown",
   "metadata": {},
   "source": [
    "# Problem\n"
   ]
  },
  {
   "cell_type": "markdown",
   "metadata": {},
   "source": [
    "You have an array of integers of length n spanning 0 to n with one missing. Write a function that returns the missing number in the array.\n",
    "\n"
   ]
  },
  {
   "cell_type": "markdown",
   "metadata": {},
   "source": [
    "<b>Example:</b><br>\n",
    "\n",
    "nums = [0,1,2,4,5] <br>\n",
    "missingNumber(nums) -> 3<br>"
   ]
  },
  {
   "cell_type": "markdown",
   "metadata": {},
   "source": [
    "<b>Solution 1: Using Mathematical formula</b>"
   ]
  },
  {
   "cell_type": "code",
   "execution_count": 4,
   "metadata": {},
   "outputs": [
    {
     "data": {
      "text/plain": [
       "2.0"
      ]
     },
     "execution_count": 4,
     "metadata": {},
     "output_type": "execute_result"
    }
   ],
   "source": [
    "def missing_number(nums):\n",
    "    \n",
    "#     for i in range(len(nums)+1):\n",
    "#         if nums[i+1]!= nums[i]+1:\n",
    "#             print(nums[i]+1)\n",
    "    n = len(nums)\n",
    "    total = n*(n+1)/2\n",
    "    sum_nums = sum(nums)\n",
    "    if total == sum_nums:\n",
    "        return 0\n",
    "    else:\n",
    "        return (total - sum_nums)\n",
    "    \n",
    "# missing_number(nums = [0,1,2,4,5])\n",
    "missing_number(nums = [3,0,1])"
   ]
  },
  {
   "cell_type": "markdown",
   "metadata": {},
   "source": [
    "<b>Solution 2: iterating </b>"
   ]
  },
  {
   "cell_type": "code",
   "execution_count": null,
   "metadata": {},
   "outputs": [],
   "source": []
  }
 ],
 "metadata": {
  "kernelspec": {
   "display_name": "Python 3",
   "language": "python",
   "name": "python3"
  },
  "language_info": {
   "codemirror_mode": {
    "name": "ipython",
    "version": 3
   },
   "file_extension": ".py",
   "mimetype": "text/x-python",
   "name": "python",
   "nbconvert_exporter": "python",
   "pygments_lexer": "ipython3",
   "version": "3.7.7"
  }
 },
 "nbformat": 4,
 "nbformat_minor": 4
}
