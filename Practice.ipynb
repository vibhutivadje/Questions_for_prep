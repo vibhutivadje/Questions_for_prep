{
 "cells": [
  {
   "cell_type": "code",
   "execution_count": 3,
   "metadata": {},
   "outputs": [
    {
     "data": {
      "text/plain": [
       "0"
      ]
     },
     "execution_count": 3,
     "metadata": {},
     "output_type": "execute_result"
    }
   ],
   "source": [
    "def buySellStock(prices):\n",
    "    \n",
    "    profit=0\n",
    "    \n",
    "    if len(prices)<2:\n",
    "        return 0\n",
    "    \n",
    "    for i in range(len(prices)):\n",
    "        for j in range(i+1,len(prices)):\n",
    "            diff = prices[j] - prices[i]\n",
    "            if prices[i]<prices[j]:\n",
    "                profit = max(diff, profit)\n",
    "    \n",
    "    return profit\n",
    "    \n",
    "# buySellStock(prices = [7,1,5,3,6,4])\n",
    "buySellStock([7,6,4,3,1])"
   ]
  },
  {
   "cell_type": "code",
   "execution_count": 5,
   "metadata": {},
   "outputs": [
    {
     "data": {
      "text/plain": [
       "5"
      ]
     },
     "execution_count": 5,
     "metadata": {},
     "output_type": "execute_result"
    }
   ],
   "source": [
    "def buySellStock(prices):\n",
    "    \n",
    "    max_profit = 0\n",
    "    min_price = float('inf')\n",
    "    \n",
    "    if len(prices)<2:\n",
    "        return 0\n",
    "    \n",
    "    for p in prices:\n",
    "        if(p<min_price):\n",
    "            min_price=p\n",
    "        elif p-min_price>max_profit:\n",
    "            max_profit = p-min_price\n",
    "    \n",
    "    return max_profit\n",
    "    \n",
    "buySellStock(prices = [7,1,5,3,6,4])\n",
    "# buySellStock([7,6,4,3,1])"
   ]
  },
  {
   "cell_type": "code",
   "execution_count": null,
   "metadata": {},
   "outputs": [],
   "source": []
  }
 ],
 "metadata": {
  "kernelspec": {
   "display_name": "Python 3",
   "language": "python",
   "name": "python3"
  },
  "language_info": {
   "codemirror_mode": {
    "name": "ipython",
    "version": 3
   },
   "file_extension": ".py",
   "mimetype": "text/x-python",
   "name": "python",
   "nbconvert_exporter": "python",
   "pygments_lexer": "ipython3",
   "version": "3.7.7"
  }
 },
 "nbformat": 4,
 "nbformat_minor": 4
}
