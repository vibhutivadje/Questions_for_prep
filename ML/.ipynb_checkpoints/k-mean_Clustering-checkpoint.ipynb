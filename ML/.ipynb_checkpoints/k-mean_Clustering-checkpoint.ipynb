{
 "cells": [
  {
   "cell_type": "code",
   "execution_count": null,
   "metadata": {},
   "outputs": [],
   "source": []
  },
  {
   "cell_type": "code",
   "execution_count": null,
   "metadata": {},
   "outputs": [],
   "source": [
    "#main function\n",
    "#helper function\n",
    "\n",
    "#main function should contain helper function "
   ]
  },
  {
   "cell_type": "code",
   "execution_count": null,
   "metadata": {},
   "outputs": [],
   "source": [
    "\n",
    "#input to main function is dataset and integer k\n",
    "def main(data,k):\n",
    "    \n",
    "    #intialization of centroids\n",
    "    centroids = initialize_centroids(data,k)\n",
    "    \n",
    "    while True:\n",
    "        old_centroids = centroids\n",
    "        labels = get_labels(data, centroids) #find labels for the datapoints\n",
    "        centroids = update_centroids(data, labels, k) #updating cluster centroids \n",
    "        \n",
    "        if should_stop(old_centroids, centroids):\n",
    "            break\n",
    "    \n",
    "    return labels\n",
    "\n",
    "#each input is a list of tuple(each tuple represents a point ) \n",
    "data = [(x_0,y_0),.........,(x_n,y_n)]\n",
    "\n",
    "#output is cluster_ids\n",
    "labels = [c_0,........,c_n]"
   ]
  },
  {
   "cell_type": "markdown",
   "metadata": {},
   "source": [
    "# INITIALIZE CENTROIDS"
   ]
  },
  {
   "cell_type": "code",
   "execution_count": null,
   "metadata": {},
   "outputs": [],
   "source": [
    "def random_sample(low, high):\n",
    "    return low+(high-low)*random.random() #use random to sample a number uniformly distributed between 0~1\n",
    "\n",
    "def initialize_centroids(data, k):\n",
    "    \n",
    "    #initialize centroids randomly in data region. get the range\n",
    "    \n",
    "    x_min = y_min = float('inf')\n",
    "    x_max = y_max = float('-inf ')\n",
    "    \n",
    "    \n",
    "    centroids = []\n",
    "    for i in range(k):\n",
    "        centroids.append([random_sample(x_min, x_max),\n",
    "                         random_sample(y_min, y_max)])\n",
    "        \n",
    "    return centroids\n"
   ]
  },
  {
   "cell_type": "markdown",
   "metadata": {},
   "source": [
    "# GET LABELS FOR DATA POINTS"
   ]
  },
  {
   "cell_type": "code",
   "execution_count": null,
   "metadata": {},
   "outputs": [],
   "source": [
    "#helper function to calculate distance between two points: Code Euclidean distance \n",
    "def get_distance(point_1, point_2):\n",
    "    return ((point_1[0] - point_2[0])**2 +\n",
    "            (point_1[1] - point_2[1])**2)**0.5 \n",
    "\n",
    "def get_labels(data, centroids):\n",
    "    \n",
    "    labels = []\n",
    "    for point in data: #this loop goes through all points\n",
    "        min_dist = float('inf')\n",
    "        label = None\n",
    "        for i, centroid in enumerate(centroids): #inner loop goes through all centroids\n",
    "            new_dist = get_distance(point, centroids) #helper function called\n",
    "            if min_dist > new_dist:\n",
    "                min_dist = new_dist\n",
    "                label = i\n",
    "        labels.append(label)\n",
    "    return labels  "
   ]
  }
 ],
 "metadata": {
  "kernelspec": {
   "display_name": "Python 3",
   "language": "python",
   "name": "python3"
  },
  "language_info": {
   "codemirror_mode": {
    "name": "ipython",
    "version": 3
   },
   "file_extension": ".py",
   "mimetype": "text/x-python",
   "name": "python",
   "nbconvert_exporter": "python",
   "pygments_lexer": "ipython3",
   "version": "3.7.7"
  }
 },
 "nbformat": 4,
 "nbformat_minor": 4
}
