{
 "cells": [
  {
   "cell_type": "markdown",
   "metadata": {},
   "source": [
    "# Main Function"
   ]
  },
  {
   "cell_type": "code",
   "execution_count": null,
   "metadata": {},
   "outputs": [],
   "source": [
    "\n",
    "#input to main function is dataset and integer k\n",
    "def main(data,k):\n",
    "    \n",
    "    #intialization of centroids\n",
    "    centroids = initialize_centroids(data,k)\n",
    "    \n",
    "    #use while loop to get label for each point and update the centroid  \n",
    "    while True:\n",
    "        old_centroids = centroids\n",
    "        labels = get_labels(data, centroids) #find labels for the datapoints\n",
    "        centroids = update_centroids(data, labels, k) #updating cluster centroids \n",
    "        \n",
    "        if should_stop(old_centroids, centroids):\n",
    "            break\n",
    "    \n",
    "    #ouptut returns the cluster_id each point belongs to \n",
    "    return labels\n",
    "\n",
    "#k-means can be applied on multidimensional data and for this program we will consider 2 dimensional points  \n",
    "#each input is a list of tuple(each tuple represents a point. First and last coordinate represents x & y points  ) \n",
    "data = [(x_0,y_0),.........,(x_n,y_n)]\n",
    "\n",
    "#output is cluster_ids\n",
    "labels = [c_0,........,c_n]"
   ]
  },
  {
   "cell_type": "markdown",
   "metadata": {},
   "source": [
    "# INITIALIZE CENTROIDS"
   ]
  },
  {
   "cell_type": "code",
   "execution_count": null,
   "metadata": {},
   "outputs": [],
   "source": [
    "#below function used to sample values between low & high boundaries \n",
    "def random_sample(low, high): \n",
    "    return low+(high-low)*random.random() #use random to sample a number uniformly distributed between 0~1 and \n",
    "#then scale number so its values will between high low\n",
    "\n",
    "def initialize_centroids(data, k):\n",
    "    \n",
    "    #initialize centroids randomly in data region. so lets  get the range\n",
    "    \n",
    "    x_min = y_min = float('inf')\n",
    "    x_max = y_max = float('-inf ')\n",
    "    \n",
    "    for point in data:  #time complexity: O(n)\n",
    "        x_min = min(point[0], x_min)\n",
    "        x_max = max(point[0], x_max)\n",
    "        y_min = min(point[1], y_min)\n",
    "        y_max = max(point[1], y_max)\n",
    "    \n",
    "    centroids = []\n",
    "    #create a list of k centroids and for each of them we want to sample x and y coordinate \n",
    "    #randomly within the range of all points\n",
    "    \n",
    "    for i in range(k): #time complexity: O(k)\n",
    "        centroids.append([random_sample(x_min, x_max),\n",
    "                         random_sample(y_min, y_max)])\n",
    "        \n",
    "    return centroids\n",
    "\n",
    "#total time complexity: O(k+n) Because k is much smaller than n we can say complexity is O(N  )"
   ]
  },
  {
   "cell_type": "markdown",
   "metadata": {},
   "source": [
    "# GET LABELS FOR DATA POINTS"
   ]
  },
  {
   "cell_type": "code",
   "execution_count": null,
   "metadata": {},
   "outputs": [],
   "source": [
    "#helper function to calculate distance between two points: Code Euclidean distance \n",
    "def get_distance(point_1, point_2):\n",
    "    return ((point_1[0] - point_2[0])**2 +\n",
    "            (point_1[1] - point_2[1])**2)**0.5 \n",
    "\n",
    "#basicaly compute the distance from each point and based on the shortest distance assign the \n",
    "#datapoint to nearest centroid\n",
    "def get_labels(data, centroids):\n",
    "    \n",
    "    labels = []\n",
    "    for point in data: #this loop goes through all points\n",
    "        min_dist = float('inf')\n",
    "        label = None\n",
    "        #select the centroid with the shortest distance \n",
    "        for i, centroid in enumerate(centroids): #inner loop goes through all centroids\n",
    "            new_dist = get_distance(point, centroids) #helper function called\n",
    "            if min_dist > new_dist:\n",
    "                min_dist = new_dist\n",
    "                label = i\n",
    "        labels.append(label)\n",
    "    return labels  \n",
    "\n",
    "#time complexity: O(K*N)"
   ]
  },
  {
   "cell_type": "markdown",
   "metadata": {},
   "source": [
    "# UPDATE CENTROIDS"
   ]
  },
  {
   "cell_type": "code",
   "execution_count": null,
   "metadata": {},
   "outputs": [],
   "source": [
    "#use the below function to update the centroids using mean of the points\n",
    "def update_centroids(points, labels, k):\n",
    "    \n",
    "    #intialize the k new centroids\n",
    "    new_centroids = [[0,0] for i in range(k)]\n",
    "    #get the count of all point that belong to each cluster\n",
    "    counts = [0]*k\n",
    "    \n",
    "    #to get the numerator and denominator of the equation, we look through all the data points\n",
    "    for point, label in zip(points, labels):\n",
    "        new_centroids[label][0] += point[0]\n",
    "        new_centroids[label][1] += point[1]\n",
    "        counts[label]+=1\n",
    "     \n",
    "    #lastly we commute the average of x and y coordinates by divi ding the sum by the counts\n",
    "    for i, (x, y) in enumerate(new_centroids):\n",
    "        new_centroids[i] = (x/counts[i], y/counts[i])\n",
    "    return new_centroids\n",
    "    \n",
    "#time complexity: O(K+N) = O(N)"
   ]
  },
  {
   "cell_type": "markdown",
   "metadata": {},
   "source": [
    "# STOPPING CRITERIA"
   ]
  },
  {
   "cell_type": "code",
   "execution_count": null,
   "metadata": {},
   "outputs": [],
   "source": [
    "#now take the old centroid, new centroid and update the movement across all centroids\n",
    "#use threshold = 1e-5(very small number), you can use different threshold depending on \n",
    "def should_stop(old_centroids, new_centroids, threshold = 1e-5):\n",
    "    total_movement = 0\n",
    "    for old_point, new_point in zip(old_centroids, new_centroids):\n",
    "        total_movement += get_distance(old_point, new_point)\n",
    "    return total_movement<threshold\n",
    "\n",
    "#time complexity: O(k)"
   ]
  },
  {
   "cell_type": "code",
   "execution_count": null,
   "metadata": {},
   "outputs": [],
   "source": [
    "Time complexity : O(K*N*I)\n",
    "\n",
    "K:#of clusters\n",
    "N:#of data points\n",
    "I:#of iterations\n",
    "    \n",
    "Space complexity : O(N)"
   ]
  }
 ],
 "metadata": {
  "kernelspec": {
   "display_name": "Python 3",
   "language": "python",
   "name": "python3"
  },
  "language_info": {
   "codemirror_mode": {
    "name": "ipython",
    "version": 3
   },
   "file_extension": ".py",
   "mimetype": "text/x-python",
   "name": "python",
   "nbconvert_exporter": "python",
   "pygments_lexer": "ipython3",
   "version": "3.7.7"
  }
 },
 "nbformat": 4,
 "nbformat_minor": 4
}
