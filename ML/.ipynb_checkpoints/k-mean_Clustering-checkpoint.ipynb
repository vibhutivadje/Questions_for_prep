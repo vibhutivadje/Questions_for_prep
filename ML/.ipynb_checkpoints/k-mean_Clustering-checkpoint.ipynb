{
 "cells": [
  {
   "cell_type": "code",
   "execution_count": null,
   "metadata": {},
   "outputs": [],
   "source": []
  },
  {
   "cell_type": "code",
   "execution_count": null,
   "metadata": {},
   "outputs": [],
   "source": [
    "#main function\n",
    "#helper function\n",
    "\n",
    "#main function should contain helper function "
   ]
  },
  {
   "cell_type": "code",
   "execution_count": null,
   "metadata": {},
   "outputs": [],
   "source": [
    "\n",
    "#input to main function is dataset and integer k\n",
    "def main(data,k):\n",
    "    \n",
    "    #intialization of centroids\n",
    "    centroids = initialize_centroids(data,k)\n",
    "    \n",
    "    while True:\n",
    "        old_centroids = centroids\n",
    "        labels = get_labels(data, centroids) #find labels for the datapoints\n",
    "        centroids = update_centroids(data, labels, k) #updating cluster centroids \n",
    "        \n",
    "        if should_stop(old_centroids, centroids):\n",
    "            break\n",
    "    \n",
    "    return labels\n",
    "\n",
    "#each input is a list of tuple(each tuple represents a point ) \n",
    "data = [(x_0,y_0),.........,(x_n,y_n)]\n",
    "\n",
    "#output is cluster_ids\n",
    "labels = [c_0,........,c_n]"
   ]
  },
  {
   "cell_type": "code",
   "execution_count": null,
   "metadata": {},
   "outputs": [],
   "source": []
  }
 ],
 "metadata": {
  "kernelspec": {
   "display_name": "Python 3",
   "language": "python",
   "name": "python3"
  },
  "language_info": {
   "codemirror_mode": {
    "name": "ipython",
    "version": 3
   },
   "file_extension": ".py",
   "mimetype": "text/x-python",
   "name": "python",
   "nbconvert_exporter": "python",
   "pygments_lexer": "ipython3",
   "version": "3.7.7"
  }
 },
 "nbformat": 4,
 "nbformat_minor": 4
}
