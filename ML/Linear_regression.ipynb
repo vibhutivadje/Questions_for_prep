{
 "cells": [
  {
   "cell_type": "code",
   "execution_count": null,
   "metadata": {},
   "outputs": [],
   "source": [
    "##Main function"
   ]
  },
  {
   "cell_type": "code",
   "execution_count": null,
   "metadata": {},
   "outputs": [],
   "source": [
    "def linear_regression(x,y,iterations=100, learning_rate=0.01):\n",
    "    n = len(x[0])\n",
    "    m = len(x)\n",
    "    \n",
    "    beta_0, beta_other = initalize_params(n)\n",
    "    \n",
    "    #repeat the below processs\n",
    "    for i in range(iterations):\n",
    "        #compute the gradient\n",
    "        gradient_beta_0, gradient_beta_other = compute_gradient(x,y, beta_0, beta_other, n, m)\n",
    "        \n",
    "        #update the value of each beta\n",
    "        beta_O, beta_other = update_params(\n",
    "            beta_O, beta_other, gradient_beta_0, gradient_beta_other, learning_rate)\n",
    "    \n",
    "    return beta_O, beta_other"
   ]
  },
  {
   "cell_type": "code",
   "execution_count": null,
   "metadata": {},
   "outputs": [],
   "source": [
    "def initialize_params(dimensions):\n",
    "    \n",
    "    beta_O = 0  # initialize beta_0 = 0\n",
    "    beta_other = [random.random() for i in range(dimensions)] #initialize other vectors and use vector to hold all of  them\n",
    "    \n",
    "    return beta_O, beta_other"
   ]
  },
  {
   "cell_type": "code",
   "execution_count": null,
   "metadata": {},
   "outputs": [],
   "source": [
    "def compute_gradient(x, y, beta_O, beta_other, dimension, m):\n",
    "    \n",
    "    gradient_beta_0 = 0\n",
    "    gradient_beta_other = [0] * dimension\n",
    "    \n",
    "    for i in range(m):\n",
    "        \n",
    "        y_i_hat = sum(x[i][j]*beta_other[j] for j in range(dimension)) + beta_0\n",
    "        \n",
    "        derror_dy = 2 * (y[i] - y_i_hat)\n",
    "        \n",
    "        for j in range(dimension):\n",
    "            gradient_beta_other[j] += derror_dy * x[i][j]/n\n",
    "        gradient_beta_0 += derror_dy/n\n",
    "        \n",
    "    return gradient_beta_0, gradient_beta_other\n",
    "            "
   ]
  },
  {
   "cell_type": "code",
   "execution_count": null,
   "metadata": {},
   "outputs": [],
   "source": [
    "def update_params(beta_O, beta_other, gradient_beta_0, gradient_beta_other, learning_rate):\n",
    "    \n",
    "    beta_O += gradient_beta_0 * learning_rate\n",
    "    \n",
    "    for i in range(len(beta_1)):\n",
    "        beta_other[i]+= (gradient_beta_other[i]*learning_rate)\n",
    "        \n",
    "    return beta_O, beta_other"
   ]
  }
 ],
 "metadata": {
  "kernelspec": {
   "display_name": "Python 3",
   "language": "python",
   "name": "python3"
  },
  "language_info": {
   "codemirror_mode": {
    "name": "ipython",
    "version": 3
   },
   "file_extension": ".py",
   "mimetype": "text/x-python",
   "name": "python",
   "nbconvert_exporter": "python",
   "pygments_lexer": "ipython3",
   "version": "3.7.7"
  }
 },
 "nbformat": 4,
 "nbformat_minor": 4
}
