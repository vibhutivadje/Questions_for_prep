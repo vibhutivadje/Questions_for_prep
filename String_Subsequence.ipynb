{
 "cells": [
  {
   "cell_type": "markdown",
   "metadata": {},
   "source": [
    "# Question"
   ]
  },
  {
   "cell_type": "markdown",
   "metadata": {},
   "source": [
    "Given two strings, string1 and string2, find out if string1 is a subsequence of string2.\n",
    "\n",
    "A subsequence is a sequence that can be derived from another sequence by deleting some elements without changing the order of the remaining elements.\n",
    "\n"
   ]
  },
  {
   "cell_type": "markdown",
   "metadata": {},
   "source": [
    "<b>Example:</b><br>\n",
    "\n",
    "string1 = 'abc'<br>\n",
    "string2 = 'asbsc'<br>\n",
    "string3 = 'acedb'<br>\n",
    "\n",
    "isSubSequence(string1, string2) -> True<br>\n",
    "isSubSequence(string1, string3) -> False<br>"
   ]
  },
  {
   "cell_type": "code",
   "execution_count": null,
   "metadata": {},
   "outputs": [],
   "source": [
    "def isSubSequence(string1, string2):\n",
    "    \n",
    "    j = 0    # Index of string1 \n",
    "    i = 0    # Index of string2 \n",
    "    \n",
    "    m = len(string1)\n",
    "    n = len(string2)\n",
    "    \n",
    "    # Traverse both string1 and string2  \n",
    "    while j<m and i<n: \n",
    "    # Compare current character of string2 with \n",
    "    # first unmatched character of string1 \n",
    "        if string1[j] == string2[i]:     \n",
    "            j = j+1    \n",
    "        i = i + 1\n",
    "          \n",
    "    # If all characters of string1 matched, then j is equal to m \n",
    "    return j==m \n",
    "        \n",
    "isSubSequence(string1='abc', string2='asbsc')\n",
    "# isSubSequence(string1='abc', string2='acedb')"
   ]
  }
 ],
 "metadata": {
  "kernelspec": {
   "display_name": "Python 3",
   "language": "python",
   "name": "python3"
  },
  "language_info": {
   "codemirror_mode": {
    "name": "ipython",
    "version": 3
   },
   "file_extension": ".py",
   "mimetype": "text/x-python",
   "name": "python",
   "nbconvert_exporter": "python",
   "pygments_lexer": "ipython3",
   "version": "3.7.7"
  }
 },
 "nbformat": 4,
 "nbformat_minor": 4
}
