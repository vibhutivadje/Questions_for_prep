{
 "cells": [
  {
   "cell_type": "markdown",
   "metadata": {},
   "source": [
    "# Question"
   ]
  },
  {
   "cell_type": "markdown",
   "metadata": {},
   "source": [
    "You’re given two dataframes. One contains information about addresses and the other contains relationships between various cities and states:"
   ]
  },
  {
   "cell_type": "code",
   "execution_count": 22,
   "metadata": {},
   "outputs": [],
   "source": [
    "import pandas as pd\n",
    "\n",
    "addresses = {\"address\": [\"4860 Sunset Boulevard, San Francisco, 94105\", \"3055 Paradise Lane, Salt Lake City, 84103\", \"682 Main Street, Detroit, 48204\", \"9001 Cascade Road, Kansas City, 64102\", \"5853 Leon Street, Tampa, 33605\"]}\n",
    "cities = {\"city\": [\"Salt Lake City\", \"Kansas City\", \"Detroit\", \"Tampa\", \"San Francisco\"], \n",
    "          \"state\": [\"Utah\", \"Missouri\", \"Michigan\", \"Florida\", \"California\"]}\n",
    "\n",
    "df_addresses = pd.DataFrame(addresses)\n",
    "\n",
    "df_cities = pd.DataFrame(cities)\n",
    "\n"
   ]
  },
  {
   "cell_type": "code",
   "execution_count": 23,
   "metadata": {},
   "outputs": [
    {
     "data": {
      "text/html": [
       "<div>\n",
       "<style scoped>\n",
       "    .dataframe tbody tr th:only-of-type {\n",
       "        vertical-align: middle;\n",
       "    }\n",
       "\n",
       "    .dataframe tbody tr th {\n",
       "        vertical-align: top;\n",
       "    }\n",
       "\n",
       "    .dataframe thead th {\n",
       "        text-align: right;\n",
       "    }\n",
       "</style>\n",
       "<table border=\"1\" class=\"dataframe\">\n",
       "  <thead>\n",
       "    <tr style=\"text-align: right;\">\n",
       "      <th></th>\n",
       "      <th>address</th>\n",
       "    </tr>\n",
       "  </thead>\n",
       "  <tbody>\n",
       "    <tr>\n",
       "      <th>0</th>\n",
       "      <td>4860 Sunset Boulevard, San Francisco, 94105</td>\n",
       "    </tr>\n",
       "    <tr>\n",
       "      <th>1</th>\n",
       "      <td>3055 Paradise Lane, Salt Lake City, 84103</td>\n",
       "    </tr>\n",
       "    <tr>\n",
       "      <th>2</th>\n",
       "      <td>682 Main Street, Detroit, 48204</td>\n",
       "    </tr>\n",
       "    <tr>\n",
       "      <th>3</th>\n",
       "      <td>9001 Cascade Road, Kansas City, 64102</td>\n",
       "    </tr>\n",
       "    <tr>\n",
       "      <th>4</th>\n",
       "      <td>5853 Leon Street, Tampa, 33605</td>\n",
       "    </tr>\n",
       "  </tbody>\n",
       "</table>\n",
       "</div>"
      ],
      "text/plain": [
       "                                       address\n",
       "0  4860 Sunset Boulevard, San Francisco, 94105\n",
       "1    3055 Paradise Lane, Salt Lake City, 84103\n",
       "2              682 Main Street, Detroit, 48204\n",
       "3        9001 Cascade Road, Kansas City, 64102\n",
       "4               5853 Leon Street, Tampa, 33605"
      ]
     },
     "execution_count": 23,
     "metadata": {},
     "output_type": "execute_result"
    }
   ],
   "source": [
    "df_addresses"
   ]
  },
  {
   "cell_type": "code",
   "execution_count": 24,
   "metadata": {},
   "outputs": [
    {
     "data": {
      "text/html": [
       "<div>\n",
       "<style scoped>\n",
       "    .dataframe tbody tr th:only-of-type {\n",
       "        vertical-align: middle;\n",
       "    }\n",
       "\n",
       "    .dataframe tbody tr th {\n",
       "        vertical-align: top;\n",
       "    }\n",
       "\n",
       "    .dataframe thead th {\n",
       "        text-align: right;\n",
       "    }\n",
       "</style>\n",
       "<table border=\"1\" class=\"dataframe\">\n",
       "  <thead>\n",
       "    <tr style=\"text-align: right;\">\n",
       "      <th></th>\n",
       "      <th>city</th>\n",
       "      <th>state</th>\n",
       "    </tr>\n",
       "  </thead>\n",
       "  <tbody>\n",
       "    <tr>\n",
       "      <th>0</th>\n",
       "      <td>Salt Lake City</td>\n",
       "      <td>Utah</td>\n",
       "    </tr>\n",
       "    <tr>\n",
       "      <th>1</th>\n",
       "      <td>Kansas City</td>\n",
       "      <td>Missouri</td>\n",
       "    </tr>\n",
       "    <tr>\n",
       "      <th>2</th>\n",
       "      <td>Detroit</td>\n",
       "      <td>Michigan</td>\n",
       "    </tr>\n",
       "    <tr>\n",
       "      <th>3</th>\n",
       "      <td>Tampa</td>\n",
       "      <td>Florida</td>\n",
       "    </tr>\n",
       "    <tr>\n",
       "      <th>4</th>\n",
       "      <td>San Francisco</td>\n",
       "      <td>California</td>\n",
       "    </tr>\n",
       "  </tbody>\n",
       "</table>\n",
       "</div>"
      ],
      "text/plain": [
       "             city       state\n",
       "0  Salt Lake City        Utah\n",
       "1     Kansas City    Missouri\n",
       "2         Detroit    Michigan\n",
       "3           Tampa     Florida\n",
       "4   San Francisco  California"
      ]
     },
     "execution_count": 24,
     "metadata": {},
     "output_type": "execute_result"
    }
   ],
   "source": [
    "df_cities"
   ]
  },
  {
   "cell_type": "code",
   "execution_count": 25,
   "metadata": {},
   "outputs": [
    {
     "data": {
      "text/plain": [
       "Index(['address'], dtype='object')"
      ]
     },
     "execution_count": 25,
     "metadata": {},
     "output_type": "execute_result"
    }
   ],
   "source": [
    "df_addresses.columns"
   ]
  },
  {
   "cell_type": "code",
   "execution_count": 26,
   "metadata": {},
   "outputs": [
    {
     "data": {
      "text/html": [
       "<div>\n",
       "<style scoped>\n",
       "    .dataframe tbody tr th:only-of-type {\n",
       "        vertical-align: middle;\n",
       "    }\n",
       "\n",
       "    .dataframe tbody tr th {\n",
       "        vertical-align: top;\n",
       "    }\n",
       "\n",
       "    .dataframe thead th {\n",
       "        text-align: right;\n",
       "    }\n",
       "</style>\n",
       "<table border=\"1\" class=\"dataframe\">\n",
       "  <thead>\n",
       "    <tr style=\"text-align: right;\">\n",
       "      <th></th>\n",
       "      <th>address</th>\n",
       "      <th>street</th>\n",
       "    </tr>\n",
       "  </thead>\n",
       "  <tbody>\n",
       "    <tr>\n",
       "      <th>0</th>\n",
       "      <td>4860 Sunset Boulevard, San Francisco, 94105</td>\n",
       "      <td>Null</td>\n",
       "    </tr>\n",
       "    <tr>\n",
       "      <th>1</th>\n",
       "      <td>3055 Paradise Lane, Salt Lake City, 84103</td>\n",
       "      <td>Null</td>\n",
       "    </tr>\n",
       "    <tr>\n",
       "      <th>2</th>\n",
       "      <td>682 Main Street, Detroit, 48204</td>\n",
       "      <td>Null</td>\n",
       "    </tr>\n",
       "    <tr>\n",
       "      <th>3</th>\n",
       "      <td>9001 Cascade Road, Kansas City, 64102</td>\n",
       "      <td>Null</td>\n",
       "    </tr>\n",
       "    <tr>\n",
       "      <th>4</th>\n",
       "      <td>5853 Leon Street, Tampa, 33605</td>\n",
       "      <td>Null</td>\n",
       "    </tr>\n",
       "  </tbody>\n",
       "</table>\n",
       "</div>"
      ],
      "text/plain": [
       "                                       address street\n",
       "0  4860 Sunset Boulevard, San Francisco, 94105   Null\n",
       "1    3055 Paradise Lane, Salt Lake City, 84103   Null\n",
       "2              682 Main Street, Detroit, 48204   Null\n",
       "3        9001 Cascade Road, Kansas City, 64102   Null\n",
       "4               5853 Leon Street, Tampa, 33605   Null"
      ]
     },
     "execution_count": 26,
     "metadata": {},
     "output_type": "execute_result"
    }
   ],
   "source": [
    "df_addresses['street'] = 'Null'\n",
    "df_addresses"
   ]
  },
  {
   "cell_type": "code",
   "execution_count": 27,
   "metadata": {},
   "outputs": [
    {
     "data": {
      "text/html": [
       "<div>\n",
       "<style scoped>\n",
       "    .dataframe tbody tr th:only-of-type {\n",
       "        vertical-align: middle;\n",
       "    }\n",
       "\n",
       "    .dataframe tbody tr th {\n",
       "        vertical-align: top;\n",
       "    }\n",
       "\n",
       "    .dataframe thead th {\n",
       "        text-align: right;\n",
       "    }\n",
       "</style>\n",
       "<table border=\"1\" class=\"dataframe\">\n",
       "  <thead>\n",
       "    <tr style=\"text-align: right;\">\n",
       "      <th></th>\n",
       "      <th>address</th>\n",
       "      <th>street</th>\n",
       "    </tr>\n",
       "  </thead>\n",
       "  <tbody>\n",
       "    <tr>\n",
       "      <th>0</th>\n",
       "      <td>4860 Sunset Boulevard, San Francisco, 94105</td>\n",
       "      <td>4860 Sunset Boulevard</td>\n",
       "    </tr>\n",
       "    <tr>\n",
       "      <th>1</th>\n",
       "      <td>3055 Paradise Lane, Salt Lake City, 84103</td>\n",
       "      <td>3055 Paradise Lane</td>\n",
       "    </tr>\n",
       "    <tr>\n",
       "      <th>2</th>\n",
       "      <td>682 Main Street, Detroit, 48204</td>\n",
       "      <td>682 Main Street</td>\n",
       "    </tr>\n",
       "    <tr>\n",
       "      <th>3</th>\n",
       "      <td>9001 Cascade Road, Kansas City, 64102</td>\n",
       "      <td>9001 Cascade Road</td>\n",
       "    </tr>\n",
       "    <tr>\n",
       "      <th>4</th>\n",
       "      <td>5853 Leon Street, Tampa, 33605</td>\n",
       "      <td>5853 Leon Street</td>\n",
       "    </tr>\n",
       "  </tbody>\n",
       "</table>\n",
       "</div>"
      ],
      "text/plain": [
       "                                       address                 street\n",
       "0  4860 Sunset Boulevard, San Francisco, 94105  4860 Sunset Boulevard\n",
       "1    3055 Paradise Lane, Salt Lake City, 84103     3055 Paradise Lane\n",
       "2              682 Main Street, Detroit, 48204        682 Main Street\n",
       "3        9001 Cascade Road, Kansas City, 64102      9001 Cascade Road\n",
       "4               5853 Leon Street, Tampa, 33605       5853 Leon Street"
      ]
     },
     "execution_count": 27,
     "metadata": {},
     "output_type": "execute_result"
    }
   ],
   "source": [
    "df_addresses['street'] = df_addresses['address'].apply(lambda x:x.split(',')[0])\n",
    "df_addresses"
   ]
  },
  {
   "cell_type": "code",
   "execution_count": 28,
   "metadata": {},
   "outputs": [
    {
     "data": {
      "text/html": [
       "<div>\n",
       "<style scoped>\n",
       "    .dataframe tbody tr th:only-of-type {\n",
       "        vertical-align: middle;\n",
       "    }\n",
       "\n",
       "    .dataframe tbody tr th {\n",
       "        vertical-align: top;\n",
       "    }\n",
       "\n",
       "    .dataframe thead th {\n",
       "        text-align: right;\n",
       "    }\n",
       "</style>\n",
       "<table border=\"1\" class=\"dataframe\">\n",
       "  <thead>\n",
       "    <tr style=\"text-align: right;\">\n",
       "      <th></th>\n",
       "      <th>address</th>\n",
       "      <th>street</th>\n",
       "      <th>city</th>\n",
       "    </tr>\n",
       "  </thead>\n",
       "  <tbody>\n",
       "    <tr>\n",
       "      <th>0</th>\n",
       "      <td>4860 Sunset Boulevard, San Francisco, 94105</td>\n",
       "      <td>4860 Sunset Boulevard</td>\n",
       "      <td>San Francisco</td>\n",
       "    </tr>\n",
       "    <tr>\n",
       "      <th>1</th>\n",
       "      <td>3055 Paradise Lane, Salt Lake City, 84103</td>\n",
       "      <td>3055 Paradise Lane</td>\n",
       "      <td>Salt Lake City</td>\n",
       "    </tr>\n",
       "    <tr>\n",
       "      <th>2</th>\n",
       "      <td>682 Main Street, Detroit, 48204</td>\n",
       "      <td>682 Main Street</td>\n",
       "      <td>Detroit</td>\n",
       "    </tr>\n",
       "    <tr>\n",
       "      <th>3</th>\n",
       "      <td>9001 Cascade Road, Kansas City, 64102</td>\n",
       "      <td>9001 Cascade Road</td>\n",
       "      <td>Kansas City</td>\n",
       "    </tr>\n",
       "    <tr>\n",
       "      <th>4</th>\n",
       "      <td>5853 Leon Street, Tampa, 33605</td>\n",
       "      <td>5853 Leon Street</td>\n",
       "      <td>Tampa</td>\n",
       "    </tr>\n",
       "  </tbody>\n",
       "</table>\n",
       "</div>"
      ],
      "text/plain": [
       "                                       address                 street  \\\n",
       "0  4860 Sunset Boulevard, San Francisco, 94105  4860 Sunset Boulevard   \n",
       "1    3055 Paradise Lane, Salt Lake City, 84103     3055 Paradise Lane   \n",
       "2              682 Main Street, Detroit, 48204        682 Main Street   \n",
       "3        9001 Cascade Road, Kansas City, 64102      9001 Cascade Road   \n",
       "4               5853 Leon Street, Tampa, 33605       5853 Leon Street   \n",
       "\n",
       "              city  \n",
       "0    San Francisco  \n",
       "1   Salt Lake City  \n",
       "2          Detroit  \n",
       "3      Kansas City  \n",
       "4            Tampa  "
      ]
     },
     "execution_count": 28,
     "metadata": {},
     "output_type": "execute_result"
    }
   ],
   "source": [
    "df_addresses['city'] = df_addresses['address'].apply(lambda x:x.split(',')[1])\n",
    "df_addresses"
   ]
  },
  {
   "cell_type": "code",
   "execution_count": 29,
   "metadata": {},
   "outputs": [
    {
     "data": {
      "text/html": [
       "<div>\n",
       "<style scoped>\n",
       "    .dataframe tbody tr th:only-of-type {\n",
       "        vertical-align: middle;\n",
       "    }\n",
       "\n",
       "    .dataframe tbody tr th {\n",
       "        vertical-align: top;\n",
       "    }\n",
       "\n",
       "    .dataframe thead th {\n",
       "        text-align: right;\n",
       "    }\n",
       "</style>\n",
       "<table border=\"1\" class=\"dataframe\">\n",
       "  <thead>\n",
       "    <tr style=\"text-align: right;\">\n",
       "      <th></th>\n",
       "      <th>address</th>\n",
       "      <th>street</th>\n",
       "      <th>city</th>\n",
       "      <th>zipcode</th>\n",
       "    </tr>\n",
       "  </thead>\n",
       "  <tbody>\n",
       "    <tr>\n",
       "      <th>0</th>\n",
       "      <td>4860 Sunset Boulevard, San Francisco, 94105</td>\n",
       "      <td>4860 Sunset Boulevard</td>\n",
       "      <td>San Francisco</td>\n",
       "      <td>94105</td>\n",
       "    </tr>\n",
       "    <tr>\n",
       "      <th>1</th>\n",
       "      <td>3055 Paradise Lane, Salt Lake City, 84103</td>\n",
       "      <td>3055 Paradise Lane</td>\n",
       "      <td>Salt Lake City</td>\n",
       "      <td>84103</td>\n",
       "    </tr>\n",
       "    <tr>\n",
       "      <th>2</th>\n",
       "      <td>682 Main Street, Detroit, 48204</td>\n",
       "      <td>682 Main Street</td>\n",
       "      <td>Detroit</td>\n",
       "      <td>48204</td>\n",
       "    </tr>\n",
       "    <tr>\n",
       "      <th>3</th>\n",
       "      <td>9001 Cascade Road, Kansas City, 64102</td>\n",
       "      <td>9001 Cascade Road</td>\n",
       "      <td>Kansas City</td>\n",
       "      <td>64102</td>\n",
       "    </tr>\n",
       "    <tr>\n",
       "      <th>4</th>\n",
       "      <td>5853 Leon Street, Tampa, 33605</td>\n",
       "      <td>5853 Leon Street</td>\n",
       "      <td>Tampa</td>\n",
       "      <td>33605</td>\n",
       "    </tr>\n",
       "  </tbody>\n",
       "</table>\n",
       "</div>"
      ],
      "text/plain": [
       "                                       address                 street  \\\n",
       "0  4860 Sunset Boulevard, San Francisco, 94105  4860 Sunset Boulevard   \n",
       "1    3055 Paradise Lane, Salt Lake City, 84103     3055 Paradise Lane   \n",
       "2              682 Main Street, Detroit, 48204        682 Main Street   \n",
       "3        9001 Cascade Road, Kansas City, 64102      9001 Cascade Road   \n",
       "4               5853 Leon Street, Tampa, 33605       5853 Leon Street   \n",
       "\n",
       "              city zipcode  \n",
       "0    San Francisco   94105  \n",
       "1   Salt Lake City   84103  \n",
       "2          Detroit   48204  \n",
       "3      Kansas City   64102  \n",
       "4            Tampa   33605  "
      ]
     },
     "execution_count": 29,
     "metadata": {},
     "output_type": "execute_result"
    }
   ],
   "source": [
    "df_addresses['zipcode'] = df_addresses['address'].apply(lambda x:x.split(',')[2])\n",
    "df_addresses"
   ]
  },
  {
   "cell_type": "code",
   "execution_count": 30,
   "metadata": {},
   "outputs": [],
   "source": [
    "df_addresses.drop('address', axis = 1, inplace = True)"
   ]
  },
  {
   "cell_type": "code",
   "execution_count": 35,
   "metadata": {},
   "outputs": [
    {
     "data": {
      "text/html": [
       "<div>\n",
       "<style scoped>\n",
       "    .dataframe tbody tr th:only-of-type {\n",
       "        vertical-align: middle;\n",
       "    }\n",
       "\n",
       "    .dataframe tbody tr th {\n",
       "        vertical-align: top;\n",
       "    }\n",
       "\n",
       "    .dataframe thead th {\n",
       "        text-align: right;\n",
       "    }\n",
       "</style>\n",
       "<table border=\"1\" class=\"dataframe\">\n",
       "  <thead>\n",
       "    <tr style=\"text-align: right;\">\n",
       "      <th></th>\n",
       "      <th>street</th>\n",
       "      <th>city</th>\n",
       "      <th>zipcode</th>\n",
       "    </tr>\n",
       "  </thead>\n",
       "  <tbody>\n",
       "    <tr>\n",
       "      <th>0</th>\n",
       "      <td>4860 Sunset Boulevard</td>\n",
       "      <td>San Francisco</td>\n",
       "      <td>94105</td>\n",
       "    </tr>\n",
       "    <tr>\n",
       "      <th>1</th>\n",
       "      <td>3055 Paradise Lane</td>\n",
       "      <td>Salt Lake City</td>\n",
       "      <td>84103</td>\n",
       "    </tr>\n",
       "    <tr>\n",
       "      <th>2</th>\n",
       "      <td>682 Main Street</td>\n",
       "      <td>Detroit</td>\n",
       "      <td>48204</td>\n",
       "    </tr>\n",
       "    <tr>\n",
       "      <th>3</th>\n",
       "      <td>9001 Cascade Road</td>\n",
       "      <td>Kansas City</td>\n",
       "      <td>64102</td>\n",
       "    </tr>\n",
       "    <tr>\n",
       "      <th>4</th>\n",
       "      <td>5853 Leon Street</td>\n",
       "      <td>Tampa</td>\n",
       "      <td>33605</td>\n",
       "    </tr>\n",
       "  </tbody>\n",
       "</table>\n",
       "</div>"
      ],
      "text/plain": [
       "                  street             city zipcode\n",
       "0  4860 Sunset Boulevard    San Francisco   94105\n",
       "1     3055 Paradise Lane   Salt Lake City   84103\n",
       "2        682 Main Street          Detroit   48204\n",
       "3      9001 Cascade Road      Kansas City   64102\n",
       "4       5853 Leon Street            Tampa   33605"
      ]
     },
     "execution_count": 35,
     "metadata": {},
     "output_type": "execute_result"
    }
   ],
   "source": [
    "df_addresses"
   ]
  },
  {
   "cell_type": "code",
   "execution_count": 36,
   "metadata": {},
   "outputs": [
    {
     "data": {
      "text/html": [
       "<div>\n",
       "<style scoped>\n",
       "    .dataframe tbody tr th:only-of-type {\n",
       "        vertical-align: middle;\n",
       "    }\n",
       "\n",
       "    .dataframe tbody tr th {\n",
       "        vertical-align: top;\n",
       "    }\n",
       "\n",
       "    .dataframe thead th {\n",
       "        text-align: right;\n",
       "    }\n",
       "</style>\n",
       "<table border=\"1\" class=\"dataframe\">\n",
       "  <thead>\n",
       "    <tr style=\"text-align: right;\">\n",
       "      <th></th>\n",
       "      <th>city</th>\n",
       "      <th>state</th>\n",
       "    </tr>\n",
       "  </thead>\n",
       "  <tbody>\n",
       "    <tr>\n",
       "      <th>0</th>\n",
       "      <td>Salt Lake City</td>\n",
       "      <td>Utah</td>\n",
       "    </tr>\n",
       "    <tr>\n",
       "      <th>1</th>\n",
       "      <td>Kansas City</td>\n",
       "      <td>Missouri</td>\n",
       "    </tr>\n",
       "    <tr>\n",
       "      <th>2</th>\n",
       "      <td>Detroit</td>\n",
       "      <td>Michigan</td>\n",
       "    </tr>\n",
       "    <tr>\n",
       "      <th>3</th>\n",
       "      <td>Tampa</td>\n",
       "      <td>Florida</td>\n",
       "    </tr>\n",
       "    <tr>\n",
       "      <th>4</th>\n",
       "      <td>San Francisco</td>\n",
       "      <td>California</td>\n",
       "    </tr>\n",
       "  </tbody>\n",
       "</table>\n",
       "</div>"
      ],
      "text/plain": [
       "             city       state\n",
       "0  Salt Lake City        Utah\n",
       "1     Kansas City    Missouri\n",
       "2         Detroit    Michigan\n",
       "3           Tampa     Florida\n",
       "4   San Francisco  California"
      ]
     },
     "execution_count": 36,
     "metadata": {},
     "output_type": "execute_result"
    }
   ],
   "source": [
    "df_cities"
   ]
  },
  {
   "cell_type": "code",
   "execution_count": 45,
   "metadata": {},
   "outputs": [
    {
     "data": {
      "text/html": [
       "<div>\n",
       "<style scoped>\n",
       "    .dataframe tbody tr th:only-of-type {\n",
       "        vertical-align: middle;\n",
       "    }\n",
       "\n",
       "    .dataframe tbody tr th {\n",
       "        vertical-align: top;\n",
       "    }\n",
       "\n",
       "    .dataframe thead th {\n",
       "        text-align: right;\n",
       "    }\n",
       "</style>\n",
       "<table border=\"1\" class=\"dataframe\">\n",
       "  <thead>\n",
       "    <tr style=\"text-align: right;\">\n",
       "      <th></th>\n",
       "      <th>street</th>\n",
       "      <th>city</th>\n",
       "      <th>zipcode</th>\n",
       "      <th>state</th>\n",
       "    </tr>\n",
       "  </thead>\n",
       "  <tbody>\n",
       "  </tbody>\n",
       "</table>\n",
       "</div>"
      ],
      "text/plain": [
       "Empty DataFrame\n",
       "Columns: [street, city, zipcode, state]\n",
       "Index: []"
      ]
     },
     "execution_count": 45,
     "metadata": {},
     "output_type": "execute_result"
    }
   ],
   "source": [
    "# df_final = pd.merge(df_addresses,df_cities, on = 'city')\n",
    "dfinal = df_addresses.merge(df_cities[['city','state']])\n",
    "df_final"
   ]
  },
  {
   "cell_type": "code",
   "execution_count": 15,
   "metadata": {},
   "outputs": [],
   "source": [
    "df_addresses['State']=[df_cities[df_cities['city']==x.strip()]['state'] for x in df_addresses['city']]"
   ]
  },
  {
   "cell_type": "code",
   "execution_count": 16,
   "metadata": {},
   "outputs": [
    {
     "data": {
      "text/html": [
       "<div>\n",
       "<style scoped>\n",
       "    .dataframe tbody tr th:only-of-type {\n",
       "        vertical-align: middle;\n",
       "    }\n",
       "\n",
       "    .dataframe tbody tr th {\n",
       "        vertical-align: top;\n",
       "    }\n",
       "\n",
       "    .dataframe thead th {\n",
       "        text-align: right;\n",
       "    }\n",
       "</style>\n",
       "<table border=\"1\" class=\"dataframe\">\n",
       "  <thead>\n",
       "    <tr style=\"text-align: right;\">\n",
       "      <th></th>\n",
       "      <th>street</th>\n",
       "      <th>city</th>\n",
       "      <th>zipcode</th>\n",
       "      <th>State</th>\n",
       "    </tr>\n",
       "  </thead>\n",
       "  <tbody>\n",
       "    <tr>\n",
       "      <th>0</th>\n",
       "      <td>4860 Sunset Boulevard</td>\n",
       "      <td>San Francisco</td>\n",
       "      <td>94105</td>\n",
       "      <td>4    California\n",
       "Name: state, dtype: object</td>\n",
       "    </tr>\n",
       "    <tr>\n",
       "      <th>1</th>\n",
       "      <td>3055 Paradise Lane</td>\n",
       "      <td>Salt Lake City</td>\n",
       "      <td>84103</td>\n",
       "      <td>0    Utah\n",
       "Name: state, dtype: object</td>\n",
       "    </tr>\n",
       "    <tr>\n",
       "      <th>2</th>\n",
       "      <td>682 Main Street</td>\n",
       "      <td>Detroit</td>\n",
       "      <td>48204</td>\n",
       "      <td>2    Michigan\n",
       "Name: state, dtype: object</td>\n",
       "    </tr>\n",
       "    <tr>\n",
       "      <th>3</th>\n",
       "      <td>9001 Cascade Road</td>\n",
       "      <td>Kansas City</td>\n",
       "      <td>64102</td>\n",
       "      <td>1    Missouri\n",
       "Name: state, dtype: object</td>\n",
       "    </tr>\n",
       "    <tr>\n",
       "      <th>4</th>\n",
       "      <td>5853 Leon Street</td>\n",
       "      <td>Tampa</td>\n",
       "      <td>33605</td>\n",
       "      <td>3    Florida\n",
       "Name: state, dtype: object</td>\n",
       "    </tr>\n",
       "  </tbody>\n",
       "</table>\n",
       "</div>"
      ],
      "text/plain": [
       "                  street             city zipcode  \\\n",
       "0  4860 Sunset Boulevard    San Francisco   94105   \n",
       "1     3055 Paradise Lane   Salt Lake City   84103   \n",
       "2        682 Main Street          Detroit   48204   \n",
       "3      9001 Cascade Road      Kansas City   64102   \n",
       "4       5853 Leon Street            Tampa   33605   \n",
       "\n",
       "                                        State  \n",
       "0  4    California\n",
       "Name: state, dtype: object  \n",
       "1        0    Utah\n",
       "Name: state, dtype: object  \n",
       "2    2    Michigan\n",
       "Name: state, dtype: object  \n",
       "3    1    Missouri\n",
       "Name: state, dtype: object  \n",
       "4     3    Florida\n",
       "Name: state, dtype: object  "
      ]
     },
     "execution_count": 16,
     "metadata": {},
     "output_type": "execute_result"
    }
   ],
   "source": [
    "df_addresses"
   ]
  },
  {
   "cell_type": "code",
   "execution_count": 13,
   "metadata": {},
   "outputs": [
    {
     "data": {
      "text/html": [
       "<div>\n",
       "<style scoped>\n",
       "    .dataframe tbody tr th:only-of-type {\n",
       "        vertical-align: middle;\n",
       "    }\n",
       "\n",
       "    .dataframe tbody tr th {\n",
       "        vertical-align: top;\n",
       "    }\n",
       "\n",
       "    .dataframe thead th {\n",
       "        text-align: right;\n",
       "    }\n",
       "</style>\n",
       "<table border=\"1\" class=\"dataframe\">\n",
       "  <thead>\n",
       "    <tr style=\"text-align: right;\">\n",
       "      <th></th>\n",
       "      <th>street</th>\n",
       "      <th>city</th>\n",
       "      <th>zipcode</th>\n",
       "      <th>state</th>\n",
       "    </tr>\n",
       "  </thead>\n",
       "  <tbody>\n",
       "  </tbody>\n",
       "</table>\n",
       "</div>"
      ],
      "text/plain": [
       "Empty DataFrame\n",
       "Columns: [street, city, zipcode, state]\n",
       "Index: []"
      ]
     },
     "execution_count": 13,
     "metadata": {},
     "output_type": "execute_result"
    }
   ],
   "source": [
    "full_add = pd.merge(df_addresses, df_cities, on= 'city')\n",
    "full_add"
   ]
  },
  {
   "cell_type": "code",
   "execution_count": 12,
   "metadata": {},
   "outputs": [
    {
     "data": {
      "text/html": [
       "<div>\n",
       "<style scoped>\n",
       "    .dataframe tbody tr th:only-of-type {\n",
       "        vertical-align: middle;\n",
       "    }\n",
       "\n",
       "    .dataframe tbody tr th {\n",
       "        vertical-align: top;\n",
       "    }\n",
       "\n",
       "    .dataframe thead th {\n",
       "        text-align: right;\n",
       "    }\n",
       "</style>\n",
       "<table border=\"1\" class=\"dataframe\">\n",
       "  <thead>\n",
       "    <tr style=\"text-align: right;\">\n",
       "      <th></th>\n",
       "      <th>street</th>\n",
       "      <th>city</th>\n",
       "      <th>zipcode</th>\n",
       "      <th>state</th>\n",
       "    </tr>\n",
       "  </thead>\n",
       "  <tbody>\n",
       "  </tbody>\n",
       "</table>\n",
       "</div>"
      ],
      "text/plain": [
       "Empty DataFrame\n",
       "Columns: [street, city, zipcode, state]\n",
       "Index: []"
      ]
     },
     "execution_count": 12,
     "metadata": {},
     "output_type": "execute_result"
    }
   ],
   "source": [
    "full_add = df_addresses.merge(df_cities, left_on = 'city', right_on='city')\n",
    "full_add"
   ]
  },
  {
   "cell_type": "markdown",
   "metadata": {},
   "source": [
    "Write a function to create a single dataframe with complete addresses in the format of street, city, state, zipcode."
   ]
  },
  {
   "cell_type": "code",
   "execution_count": 18,
   "metadata": {},
   "outputs": [],
   "source": [
    "import pandas as pd\n",
    "\n",
    "addresses = {\"address\": [\"4860 Sunset Boulevard, San Francisco, 94105\", \"3055 Paradise Lane, Salt Lake City, 84103\", \"682 Main Street, Detroit, 48204\", \"9001 Cascade Road, Kansas City, 64102\", \"5853 Leon Street, Tampa, 33605\"]}\n",
    "cities = {\"city\": [\"Salt Lake City\", \"Kansas City\", \"Detroit\", \"Tampa\", \"San Francisco\"], \n",
    "          \"state\": [\"Utah\", \"Missouri\", \"Michigan\", \"Florida\", \"California\"]}\n",
    "\n",
    "df_addresses = pd.DataFrame(addresses)\n",
    "\n",
    "df_cities = pd.DataFrame(cities)"
   ]
  },
  {
   "cell_type": "code",
   "execution_count": 19,
   "metadata": {},
   "outputs": [
    {
     "name": "stdout",
     "output_type": "stream",
     "text": [
      "                  Street             City     Zip  \\\n",
      "0  4860 Sunset Boulevard    San Francisco   94105   \n",
      "1     3055 Paradise Lane   Salt Lake City   84103   \n",
      "2        682 Main Street          Detroit   48204   \n",
      "3      9001 Cascade Road      Kansas City   64102   \n",
      "4       5853 Leon Street            Tampa   33605   \n",
      "\n",
      "                                        State  \n",
      "0  4    California\n",
      "Name: state, dtype: object  \n",
      "1        0    Utah\n",
      "Name: state, dtype: object  \n",
      "2    2    Michigan\n",
      "Name: state, dtype: object  \n",
      "3    1    Missouri\n",
      "Name: state, dtype: object  \n",
      "4     3    Florida\n",
      "Name: state, dtype: object  \n"
     ]
    }
   ],
   "source": [
    "df_addresses['Street']=[x.split(',')[0] for x in df_addresses['address']] \n",
    "df_addresses['City']=[x.split(',')[1] for x in df_addresses['address']] \n",
    "df_addresses['Zip']=[x.split(',')[2] for x in df_addresses['address']] \n",
    "df_addresses = df_addresses.drop('address',axis=1)\n",
    "\n",
    "df_addresses['State']=[df_cities[df_cities['city']==x.strip()]['state'] for x in df_addresses['City']]\n",
    "\n",
    "print(df_addresses)"
   ]
  },
  {
   "cell_type": "code",
   "execution_count": null,
   "metadata": {},
   "outputs": [],
   "source": [
    "df_addresses['street'] = df_addresses['address'].apply(lambda x:x.split(',')[0])\n",
    "df_addresses['city'] = [x.split(',')[1] for x in df_addresses['address']]\n",
    "df_addresses['zip'] = df_addresses['address'].apply(lambda x:x.split(',')[2])"
   ]
  },
  {
   "cell_type": "code",
   "execution_count": null,
   "metadata": {},
   "outputs": [],
   "source": [
    "df_addresses"
   ]
  },
  {
   "cell_type": "code",
   "execution_count": null,
   "metadata": {},
   "outputs": [],
   "source": [
    "df_addresses = df_addresses.drop('address', axis=1)\n",
    "df_addresses"
   ]
  },
  {
   "cell_type": "code",
   "execution_count": null,
   "metadata": {},
   "outputs": [],
   "source": [
    "df_cities"
   ]
  },
  {
   "cell_type": "code",
   "execution_count": null,
   "metadata": {},
   "outputs": [],
   "source": []
  }
 ],
 "metadata": {
  "kernelspec": {
   "display_name": "Python 3 (ipykernel)",
   "language": "python",
   "name": "python3"
  },
  "language_info": {
   "codemirror_mode": {
    "name": "ipython",
    "version": 3
   },
   "file_extension": ".py",
   "mimetype": "text/x-python",
   "name": "python",
   "nbconvert_exporter": "python",
   "pygments_lexer": "ipython3",
   "version": "3.9.7"
  }
 },
 "nbformat": 4,
 "nbformat_minor": 4
}
