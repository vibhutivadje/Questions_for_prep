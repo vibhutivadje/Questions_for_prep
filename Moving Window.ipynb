{
 "cells": [
  {
   "cell_type": "markdown",
   "id": "795f148c",
   "metadata": {},
   "source": [
    "# Problem:"
   ]
  },
  {
   "cell_type": "markdown",
   "id": "8eb4b8dc",
   "metadata": {},
   "source": [
    "Given a list of numbers nums and an integer window_size, write a function moving_window to find the moving window average.\n",
    "\n"
   ]
  },
  {
   "cell_type": "markdown",
   "id": "b5563dc4",
   "metadata": {},
   "source": [
    "<b>Example:</b><br>\n",
    "\n",
    "nums = [1,2,3,4,5,6]<br>\n",
    "window_size = 3<br>\n",
    "def moving_window(input, window_size) -> [1, 1.5, 2, 3, 4, 5]<br>\n",
    "\n",
    "nums = [1,2,3,4,5,6]<br>\n",
    "window_size = 4<br>\n",
    "def moving_window(input, window_size) -> [1, 1.5, 2, 2.5, 3.5, 4.5]<br>"
   ]
  },
  {
   "cell_type": "code",
   "execution_count": null,
   "id": "ff3050b6",
   "metadata": {},
   "outputs": [],
   "source": []
  }
 ],
 "metadata": {
  "kernelspec": {
   "display_name": "Python 3 (ipykernel)",
   "language": "python",
   "name": "python3"
  },
  "language_info": {
   "codemirror_mode": {
    "name": "ipython",
    "version": 3
   },
   "file_extension": ".py",
   "mimetype": "text/x-python",
   "name": "python",
   "nbconvert_exporter": "python",
   "pygments_lexer": "ipython3",
   "version": "3.9.7"
  }
 },
 "nbformat": 4,
 "nbformat_minor": 5
}
