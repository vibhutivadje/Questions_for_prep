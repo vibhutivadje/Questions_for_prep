{
 "cells": [
  {
   "cell_type": "markdown",
   "id": "708e149a",
   "metadata": {},
   "source": []
  },
  {
   "cell_type": "markdown",
   "id": "acad7f62",
   "metadata": {},
   "source": [
    "Write a python code to accept a string and count the number of vowels and consonants."
   ]
  },
  {
   "cell_type": "code",
   "execution_count": 7,
   "id": "780235a4",
   "metadata": {},
   "outputs": [
    {
     "name": "stdout",
     "output_type": "stream",
     "text": [
      "The count of vowels: 2\n",
      "The count of consonants: 3\n"
     ]
    }
   ],
   "source": [
    "def getcountofvowelsconsonants(str):\n",
    "    v=0\n",
    "    c=0\n",
    "    for i in str:\n",
    "        if i in ['a','e','i','o','u']:\n",
    "            v = v+1\n",
    "        elif i == \" \":\n",
    "            v = v\n",
    "            c = c\n",
    "        else:\n",
    "            c = c+1\n",
    "    \n",
    "    print(\"The count of vowels:\", v)\n",
    "    print(\"The count of consonants:\", c)\n",
    "\n",
    "getcountofvowelsconsonants(\"Sweta\")"
   ]
  },
  {
   "cell_type": "code",
   "execution_count": null,
   "id": "d0ff5637",
   "metadata": {},
   "outputs": [],
   "source": []
  }
 ],
 "metadata": {
  "kernelspec": {
   "display_name": "Python 3 (ipykernel)",
   "language": "python",
   "name": "python3"
  },
  "language_info": {
   "codemirror_mode": {
    "name": "ipython",
    "version": 3
   },
   "file_extension": ".py",
   "mimetype": "text/x-python",
   "name": "python",
   "nbconvert_exporter": "python",
   "pygments_lexer": "ipython3",
   "version": "3.9.7"
  }
 },
 "nbformat": 4,
 "nbformat_minor": 5
}
