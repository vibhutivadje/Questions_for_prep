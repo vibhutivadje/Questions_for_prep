{
 "cells": [
  {
   "cell_type": "markdown",
   "id": "641af7fd",
   "metadata": {},
   "source": []
  },
  {
   "cell_type": "markdown",
   "id": "188ee6fd",
   "metadata": {},
   "source": [
    "1.Write a python code to accept a string and count the number of vowels and consonants."
   ]
  },
  {
   "cell_type": "code",
   "execution_count": 7,
   "id": "2f186a5a",
   "metadata": {},
   "outputs": [
    {
     "name": "stdout",
     "output_type": "stream",
     "text": [
      "The count of vowels: 2\n",
      "The count of consonants: 3\n"
     ]
    }
   ],
   "source": [
    "def getcountofvowelsconsonants(str):\n",
    "    v=0\n",
    "    c=0\n",
    "    for i in str:\n",
    "        if i in ['a','e','i','o','u']:\n",
    "            v = v+1\n",
    "        elif i == \" \":\n",
    "            v = v\n",
    "            c = c\n",
    "        else:\n",
    "            c = c+1\n",
    "    \n",
    "    print(\"The count of vowels:\", v)\n",
    "    print(\"The count of consonants:\", c)\n",
    "\n",
    "getcountofvowelsconsonants(\"Sweta\")"
   ]
  },
  {
   "cell_type": "markdown",
   "id": "f0dd8661",
   "metadata": {},
   "source": [
    "2. Write a program to find the number of occurrences of elements from list1 to list2."
   ]
  },
  {
   "cell_type": "code",
   "execution_count": 10,
   "id": "eaeb7860",
   "metadata": {},
   "outputs": [
    {
     "name": "stdout",
     "output_type": "stream",
     "text": [
      "3 elements of list1 are in list2\n"
     ]
    }
   ],
   "source": [
    "def getcountofelementsfromlist1tolist2(l1,l2):\n",
    "    \n",
    "    occ = 0 \n",
    "    for i in l1:\n",
    "        if i in l2:\n",
    "            occ = occ + 1\n",
    "    print(occ,\"elements of list1 are in list2\")\n",
    "    \n",
    "    \n",
    "l1=[1,2,3,4,5]\n",
    "l2= [2,8,9,4,5]\n",
    "getcountofelementsfromlist1tolist2(l1,l2)\n",
    "    "
   ]
  },
  {
   "cell_type": "markdown",
   "id": "5ba59b01",
   "metadata": {},
   "source": [
    "3. From a dictionary, print only the items with an odd value of less than 45.\n"
   ]
  },
  {
   "cell_type": "code",
   "execution_count": 15,
   "id": "eef04c11",
   "metadata": {},
   "outputs": [
    {
     "name": "stdout",
     "output_type": "stream",
     "text": [
      "Mausam : 31\n"
     ]
    }
   ],
   "source": [
    "def getoddvalue(d):\n",
    "    \n",
    "    for i,j in d.items():\n",
    "        if j%2!=0 and j<45:\n",
    "            print(i,':',j)\n",
    "    \n",
    "d = {'Sweta': 45, 'Mausam': 31, 'Pratik':312, 'Pari': 400}\n",
    "getoddvalue(d)"
   ]
  },
  {
   "cell_type": "markdown",
   "id": "15620d13",
   "metadata": {},
   "source": [
    "4. Write a program to count pairs of elements of a list with a given sum"
   ]
  },
  {
   "cell_type": "code",
   "execution_count": 18,
   "id": "d5cb37d9",
   "metadata": {},
   "outputs": [
    {
     "name": "stdout",
     "output_type": "stream",
     "text": [
      "there are total  7  number of pairs with given sum\n"
     ]
    }
   ],
   "source": [
    "def getcntpairofelments(l,sum_l):\n",
    "    \n",
    "    c = 0\n",
    "    for i in range(0,len(l)):\n",
    "        for j in range(i+1, len(l)):\n",
    "            if l[i]+l[j]==sum_l:\n",
    "                c =c+1\n",
    "    print('there are total ', c, ' number of pairs with given sum')\n",
    "    \n",
    "    \n",
    "\n",
    "l=[1,2,3,4,5,4,3,2,1]\n",
    "sum_l=6\n",
    "getcntpairofelments(l,sum_l)"
   ]
  },
  {
   "cell_type": "code",
   "execution_count": null,
   "id": "c11418ac",
   "metadata": {},
   "outputs": [],
   "source": []
  },
  {
   "cell_type": "markdown",
   "id": "6c45481e",
   "metadata": {},
   "source": [
    "https://medium.com/@shwetaka1988/python-coding-interview-questions-part-1-with-solutions-ce3156b17c50"
   ]
  },
  {
   "cell_type": "markdown",
   "id": "bab7c23e",
   "metadata": {},
   "source": [
    "https://medium.com/@shwetaka1988/python-coding-interview-questions-part-2-with-solutions-6b2e0baa3695"
   ]
  },
  {
   "cell_type": "markdown",
   "id": "28f8a774",
   "metadata": {},
   "source": [
    "https://medium.com/@shwetaka1988/python-coding-interview-questions-part-3-with-solutions-b8b994eaa195"
   ]
  },
  {
   "cell_type": "code",
   "execution_count": null,
   "id": "d68fc4ef",
   "metadata": {},
   "outputs": [],
   "source": []
  }
 ],
 "metadata": {
  "kernelspec": {
   "display_name": "Python 3 (ipykernel)",
   "language": "python",
   "name": "python3"
  },
  "language_info": {
   "codemirror_mode": {
    "name": "ipython",
    "version": 3
   },
   "file_extension": ".py",
   "mimetype": "text/x-python",
   "name": "python",
   "nbconvert_exporter": "python",
   "pygments_lexer": "ipython3",
   "version": "3.9.7"
  }
 },
 "nbformat": 4,
 "nbformat_minor": 5
}
