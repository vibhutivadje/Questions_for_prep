{
 "cells": [
  {
   "cell_type": "code",
   "execution_count": null,
   "metadata": {},
   "outputs": [],
   "source": []
  },
  {
   "cell_type": "code",
   "execution_count": 2,
   "metadata": {},
   "outputs": [
    {
     "data": {
      "text/plain": [
       "[1, 2, 2, 3, 3, 5, 5, 5, 6, 7]"
      ]
     },
     "execution_count": 2,
     "metadata": {},
     "output_type": "execute_result"
    }
   ],
   "source": [
    "def mergelistNewRes(nums1, nums2):\n",
    "    \n",
    "    #base condition\n",
    "    if not nums1 or not nums2:\n",
    "        return False\n",
    "    \n",
    "    n1 = len(nums1)\n",
    "    n2 = len(nums2)\n",
    "    res = []\n",
    "    i = 0\n",
    "    j = 0\n",
    "    \n",
    "    while i<n1 and j<n2:\n",
    "        \n",
    "        if nums1[i]<nums2[j]:\n",
    "            res.append(nums1[i]) \n",
    "            i = i+1\n",
    "        else:\n",
    "            res.append(nums2[j]) \n",
    "            j = j+1\n",
    "            \n",
    "        \n",
    "    while i<n1:\n",
    "        res.append(nums1[i])\n",
    "        i = i +1\n",
    "        \n",
    "    while j<n2:\n",
    "        res.append(nums2[j])\n",
    "        j = j +1 \n",
    "        \n",
    "    return res\n",
    "    \n",
    "mergelistNewRes(nums1=[1,2,3,3,5], nums2=[2,5,5,6,7])\n",
    "\n",
    "#time complexity: O(m+n)\n",
    "#space complexity: O(n)"
   ]
  },
  {
   "cell_type": "code",
   "execution_count": null,
   "metadata": {},
   "outputs": [],
   "source": []
  }
 ],
 "metadata": {
  "kernelspec": {
   "display_name": "Python 3",
   "language": "python",
   "name": "python3"
  },
  "language_info": {
   "codemirror_mode": {
    "name": "ipython",
    "version": 3
   },
   "file_extension": ".py",
   "mimetype": "text/x-python",
   "name": "python",
   "nbconvert_exporter": "python",
   "pygments_lexer": "ipython3",
   "version": "3.7.7"
  }
 },
 "nbformat": 4,
 "nbformat_minor": 4
}
