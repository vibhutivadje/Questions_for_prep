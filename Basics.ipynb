{
 "cells": [
  {
   "cell_type": "markdown",
   "id": "abcdd392",
   "metadata": {},
   "source": [
    "Create a list that includes values from 12 to 27 (inclusive). Then create a loop that goes through the list and returns a dictionary with the number and whether that number was odd or even,"
   ]
  },
  {
   "cell_type": "code",
   "execution_count": 7,
   "id": "f6046997",
   "metadata": {},
   "outputs": [
    {
     "name": "stdout",
     "output_type": "stream",
     "text": [
      "{12: 'Even', 13: 'Odd', 14: 'Even', 15: 'Odd', 16: 'Even', 17: 'Odd', 18: 'Even', 19: 'Odd', 20: 'Even', 21: 'Odd', 22: 'Even', 23: 'Odd', 24: 'Even', 25: 'Odd', 26: 'Even', 27: 'Odd'}\n"
     ]
    }
   ],
   "source": [
    "num_list = list(range(12, 28))\n",
    "d = {}\n",
    "\n",
    "for n in num_list:\n",
    "    if n%2 == 0:\n",
    "        d[n]='Even'\n",
    "    else:\n",
    "        d[n]='Odd'\n",
    "print(d)\n",
    "# print(num_list)"
   ]
  },
  {
   "cell_type": "markdown",
   "id": "0cf8b9ea",
   "metadata": {},
   "source": [
    "How many times can we double 13 before it passes 1,300?"
   ]
  },
  {
   "cell_type": "code",
   "execution_count": 9,
   "id": "68c20ce2",
   "metadata": {},
   "outputs": [
    {
     "name": "stdout",
     "output_type": "stream",
     "text": [
      "13 has been doubled 0 times and is now 13.\n",
      "13 has been doubled 1 times and is now 26.\n",
      "13 has been doubled 2 times and is now 52.\n",
      "13 has been doubled 3 times and is now 104.\n",
      "13 has been doubled 4 times and is now 208.\n",
      "13 has been doubled 5 times and is now 416.\n",
      "13 has been doubled 6 times and is now 832.\n"
     ]
    }
   ],
   "source": [
    "x = 13\n",
    "counter = 0\n",
    "\n",
    "while x<1300:\n",
    "    print(f\"13 has been doubled {counter} times and is now {x}.\")\n",
    "    x*=2\n",
    "    counter += 1"
   ]
  },
  {
   "cell_type": "markdown",
   "id": "5638c63b",
   "metadata": {},
   "source": [
    "Define a function that determines whether a number is divisible by 3 or not and then test it on 6 and 8.\n",
    "\n"
   ]
  },
  {
   "cell_type": "code",
   "execution_count": 13,
   "id": "867279c9",
   "metadata": {},
   "outputs": [
    {
     "name": "stdout",
     "output_type": "stream",
     "text": [
      "8 is indivisible by 3\n"
     ]
    }
   ],
   "source": [
    "def div_by_3(num):\n",
    "    if num%3==0:\n",
    "        print(f\"{num} is divisible by 3\")\n",
    "    else:\n",
    "        print(f\"{num} is indivisible by 3\")\n",
    "        \n",
    "# div_by_3(3)\n",
    "# div_by_3(6)\n",
    "div_by_3(8)"
   ]
  },
  {
   "cell_type": "markdown",
   "id": "3263bec7",
   "metadata": {},
   "source": [
    "<B>Function Scope:</B>"
   ]
  },
  {
   "cell_type": "code",
   "execution_count": 28,
   "id": "cd0f3a99",
   "metadata": {},
   "outputs": [
    {
     "name": "stdout",
     "output_type": "stream",
     "text": [
      "5\n",
      "9\n"
     ]
    }
   ],
   "source": [
    "x = 5\n",
    "def q_2():\n",
    "    global x\n",
    "    x = 9\n",
    "    return x\n",
    "\n",
    "print(x)\n",
    "print(q_2())"
   ]
  },
  {
   "cell_type": "code",
   "execution_count": 33,
   "id": "0b9222b1",
   "metadata": {},
   "outputs": [
    {
     "name": "stdout",
     "output_type": "stream",
     "text": [
      "5\n"
     ]
    }
   ],
   "source": [
    "y = 5\n",
    "def q_3():\n",
    "    y = 11\n",
    "    return z\n",
    "\n",
    "print(y)\n",
    "# print(q_3())"
   ]
  },
  {
   "cell_type": "markdown",
   "id": "ff6b8b38",
   "metadata": {},
   "source": [
    "Define a function named outer_function that takes argument x and includes another function nested inside named inner_function, which takes argument y. The inner_function returns the result of x * y. Test the function when x is 4 and y is 6 and therefore we expect a result of 24."
   ]
  },
  {
   "cell_type": "code",
   "execution_count": 37,
   "id": "82ef9fd9",
   "metadata": {},
   "outputs": [
    {
     "data": {
      "text/plain": [
       "24"
      ]
     },
     "execution_count": 37,
     "metadata": {},
     "output_type": "execute_result"
    }
   ],
   "source": [
    "def outer_function(x):\n",
    "    def inner_function(y):\n",
    "        return x * y\n",
    "    return inner_function\n",
    "\n",
    "a = outer_function(4)\n",
    "a(6)"
   ]
  },
  {
   "cell_type": "markdown",
   "id": "94fb25a3",
   "metadata": {},
   "source": [
    "Define a function that takes x and y arguments and returns x to the power of y. When y is not provided, it should be 2 by default. Test it on a few scenarios to see how default arguments work."
   ]
  },
  {
   "cell_type": "code",
   "execution_count": 38,
   "id": "7f5cb5aa",
   "metadata": {},
   "outputs": [
    {
     "name": "stdout",
     "output_type": "stream",
     "text": [
      "q_5(4, 3) returns: 64\n",
      "q_5(4) uses the default value of 2 for y and returns: 16\n"
     ]
    }
   ],
   "source": [
    "def q_5(x, y = 2):\n",
    "    return x ** y\n",
    "\n",
    "print(f\"q_5(4, 3) returns: {q_5(4, 3)}\")\n",
    "print(f\"q_5(4) uses the default value of 2 for y and returns: {q_5(4)}\")"
   ]
  },
  {
   "cell_type": "markdown",
   "id": "7de51601",
   "metadata": {},
   "source": [
    "When a value is divided by zero, Python throws an error stating ZeroDivisionError: division by zero - give it a try if you have not come across it before. Define function q_7 that takes two arguments and divides one by the other. When the denominator is zero, instead of Python's usual error message, print division by zero is not possible. Test out the function on a few scenarios to make sure the function behaves as intended."
   ]
  },
  {
   "cell_type": "code",
   "execution_count": 39,
   "id": "74accc47",
   "metadata": {},
   "outputs": [
    {
     "name": "stdout",
     "output_type": "stream",
     "text": [
      "q_7(2, 5) returns: 0.4\n",
      "\n",
      "division by zero is not possible\n",
      "q_7(2, 0) returns: None\n"
     ]
    }
   ],
   "source": [
    "def q_7(x, y):\n",
    "    try:\n",
    "        x / y\n",
    "    except ZeroDivisionError:\n",
    "        print(\"division by zero is not possible\")\n",
    "    else:\n",
    "        return x / y\n",
    "    \n",
    "print(f\"q_7(2, 5) returns: {q_7(2, 5)}\\n\")\n",
    "print(f\"q_7(2, 0) returns: {q_7(2, 0)}\")"
   ]
  },
  {
   "cell_type": "markdown",
   "id": "f7b2d29f",
   "metadata": {},
   "source": [
    "<B>Exception Handling</B>"
   ]
  },
  {
   "cell_type": "markdown",
   "id": "74843afb",
   "metadata": {},
   "source": [
    "Exceptions in Python is when an error happens, such as dividing a value by zero, which would generate a ZeroDivisionError: division by zero. In the following examples, we will focus on how to use try and except to convey specific information when an exception occurs.\n",
    "\n",
    "There are a few key words to learn for this topic, which will be more solidified after going through the exercise questions.\n",
    "\n",
    "<B>try block</B> is to test a block of code for errors.<br>\n",
    "<B>except block</B> is to handle the error.<br>\n",
    "<B>else block</B> is to execute code in the absence of an error.<br>\n",
    "<B>finally block</B> is executed regardless of what happened in the try block, unlike else which only happens when there are no errors."
   ]
  },
  {
   "cell_type": "markdown",
   "id": "86f15467",
   "metadata": {},
   "source": [
    "Question 6:\n",
    "\n",
    "Define a function named q_6 that takes two arguments and returns the multiplication of the two arguments. The function is not designed to accept any negative arguments so if any of the two arguments is negative, the function should return a ValueError() class exception that states invalid arguments in a string format. Test out the function on a few scenarios to make sure the function behaves as intended."
   ]
  },
  {
   "cell_type": "code",
   "execution_count": 35,
   "id": "2c34228c",
   "metadata": {},
   "outputs": [
    {
     "name": "stdout",
     "output_type": "stream",
     "text": [
      "q_6(2, 5) returns: 10\n",
      "q_6(2, -5) returns: invalid arguments\n",
      "q_6(-2, 5) returns: invalid arguments\n",
      "q_6(-2, -5) returns: invalid arguments\n"
     ]
    }
   ],
   "source": [
    "def q_6(x, y):\n",
    "    try:\n",
    "        if x < 0 or y < 0:\n",
    "            raise ValueError(\"invalid arguments\")\n",
    "        return x * y\n",
    "    except ValueError as err:\n",
    "        return str(err)\n",
    "    \n",
    "print(f\"q_6(2, 5) returns: {q_6(2, 5)}\")\n",
    "print(f\"q_6(2, -5) returns: {q_6(2, -5)}\")\n",
    "print(f\"q_6(-2, 5) returns: {q_6(-2, 5)}\")\n",
    "print(f\"q_6(-2, -5) returns: {q_6(-2, -5)}\")"
   ]
  },
  {
   "cell_type": "code",
   "execution_count": 16,
   "id": "7e0eaee4",
   "metadata": {},
   "outputs": [],
   "source": [
    "#import lib\n",
    "\n",
    "import numpy as np\n",
    "import pandas as pd"
   ]
  },
  {
   "cell_type": "markdown",
   "id": "75826ab3",
   "metadata": {},
   "source": [
    "Create the data to be included in the dataframe"
   ]
  },
  {
   "cell_type": "code",
   "execution_count": 17,
   "id": "9ba0c79b",
   "metadata": {},
   "outputs": [],
   "source": [
    "participants = {\n",
    "    'gender':['female', 'female', 'male', 'female', 'female', 'male', 'male', 'male', 'female'],\n",
    "    'age': [26, 77, 39, 54, 55, 63, 28, 33, 49]\n",
    "}"
   ]
  },
  {
   "cell_type": "markdown",
   "id": "9f533d5c",
   "metadata": {},
   "source": [
    "Create the dataframe"
   ]
  },
  {
   "cell_type": "code",
   "execution_count": 18,
   "id": "bab4656a",
   "metadata": {},
   "outputs": [
    {
     "data": {
      "text/html": [
       "<div>\n",
       "<style scoped>\n",
       "    .dataframe tbody tr th:only-of-type {\n",
       "        vertical-align: middle;\n",
       "    }\n",
       "\n",
       "    .dataframe tbody tr th {\n",
       "        vertical-align: top;\n",
       "    }\n",
       "\n",
       "    .dataframe thead th {\n",
       "        text-align: right;\n",
       "    }\n",
       "</style>\n",
       "<table border=\"1\" class=\"dataframe\">\n",
       "  <thead>\n",
       "    <tr style=\"text-align: right;\">\n",
       "      <th></th>\n",
       "      <th>gender</th>\n",
       "      <th>age</th>\n",
       "    </tr>\n",
       "  </thead>\n",
       "  <tbody>\n",
       "    <tr>\n",
       "      <th>0</th>\n",
       "      <td>female</td>\n",
       "      <td>26</td>\n",
       "    </tr>\n",
       "    <tr>\n",
       "      <th>1</th>\n",
       "      <td>female</td>\n",
       "      <td>77</td>\n",
       "    </tr>\n",
       "    <tr>\n",
       "      <th>2</th>\n",
       "      <td>male</td>\n",
       "      <td>39</td>\n",
       "    </tr>\n",
       "    <tr>\n",
       "      <th>3</th>\n",
       "      <td>female</td>\n",
       "      <td>54</td>\n",
       "    </tr>\n",
       "    <tr>\n",
       "      <th>4</th>\n",
       "      <td>female</td>\n",
       "      <td>55</td>\n",
       "    </tr>\n",
       "    <tr>\n",
       "      <th>5</th>\n",
       "      <td>male</td>\n",
       "      <td>63</td>\n",
       "    </tr>\n",
       "    <tr>\n",
       "      <th>6</th>\n",
       "      <td>male</td>\n",
       "      <td>28</td>\n",
       "    </tr>\n",
       "    <tr>\n",
       "      <th>7</th>\n",
       "      <td>male</td>\n",
       "      <td>33</td>\n",
       "    </tr>\n",
       "    <tr>\n",
       "      <th>8</th>\n",
       "      <td>female</td>\n",
       "      <td>49</td>\n",
       "    </tr>\n",
       "  </tbody>\n",
       "</table>\n",
       "</div>"
      ],
      "text/plain": [
       "   gender  age\n",
       "0  female   26\n",
       "1  female   77\n",
       "2    male   39\n",
       "3  female   54\n",
       "4  female   55\n",
       "5    male   63\n",
       "6    male   28\n",
       "7    male   33\n",
       "8  female   49"
      ]
     },
     "execution_count": 18,
     "metadata": {},
     "output_type": "execute_result"
    }
   ],
   "source": [
    "df = pd.DataFrame(participants)\n",
    "df"
   ]
  },
  {
   "cell_type": "markdown",
   "id": "b7e4407d",
   "metadata": {},
   "source": [
    "How many rows and columns are included in the dataframe?"
   ]
  },
  {
   "cell_type": "code",
   "execution_count": 19,
   "id": "9c45deb2",
   "metadata": {},
   "outputs": [
    {
     "name": "stdout",
     "output_type": "stream",
     "text": [
      "there are 9 rows and 2 columns in the dataframe.\n"
     ]
    }
   ],
   "source": [
    "print(f\"there are {df.shape[0]} rows and {df.shape[1]} columns in the dataframe.\")"
   ]
  },
  {
   "cell_type": "markdown",
   "id": "6e6aedb6",
   "metadata": {},
   "source": [
    "What is the average age of the participants?"
   ]
  },
  {
   "cell_type": "code",
   "execution_count": 20,
   "id": "bd992feb",
   "metadata": {},
   "outputs": [
    {
     "data": {
      "text/plain": [
       "47.111111111111114"
      ]
     },
     "execution_count": 20,
     "metadata": {},
     "output_type": "execute_result"
    }
   ],
   "source": [
    "df[\"age\"].mean()"
   ]
  },
  {
   "cell_type": "code",
   "execution_count": 21,
   "id": "ff7145db",
   "metadata": {},
   "outputs": [
    {
     "data": {
      "text/plain": [
       "47.111111111111114"
      ]
     },
     "execution_count": 21,
     "metadata": {},
     "output_type": "execute_result"
    }
   ],
   "source": [
    "# Approach 2\n",
    "np.mean(df[\"age\"])"
   ]
  },
  {
   "cell_type": "code",
   "execution_count": 22,
   "id": "51b64fce",
   "metadata": {},
   "outputs": [
    {
     "data": {
      "text/plain": [
       "5"
      ]
     },
     "execution_count": 22,
     "metadata": {},
     "output_type": "execute_result"
    }
   ],
   "source": [
    "df['gender'][df['gender']=='female'].count()"
   ]
  },
  {
   "cell_type": "markdown",
   "id": "b373738a",
   "metadata": {},
   "source": [
    "How many total male participants are there, and how many of them are older than 30 years old?"
   ]
  },
  {
   "cell_type": "code",
   "execution_count": 24,
   "id": "d3f47886",
   "metadata": {},
   "outputs": [
    {
     "name": "stdout",
     "output_type": "stream",
     "text": [
      "There are 4 total male participants.\n",
      "\n"
     ]
    }
   ],
   "source": [
    "total_male_participants = df['gender'][df['gender']=='male'].count()\n",
    "print(f\"There are {total_male_participants} total male participants.\\n\")\n"
   ]
  },
  {
   "cell_type": "code",
   "execution_count": 26,
   "id": "a33822c2",
   "metadata": {},
   "outputs": [
    {
     "name": "stdout",
     "output_type": "stream",
     "text": [
      "There are 3 males participants above age of 30.\n"
     ]
    }
   ],
   "source": [
    "male_above_30 = df['gender'][(df['gender']=='male')&(df['age']>30)].count()\n",
    "print(f\"There are {male_above_30} males participants above age of 30.\")"
   ]
  },
  {
   "cell_type": "markdown",
   "id": "3e6d807c",
   "metadata": {},
   "source": [
    "<B>Lambda function</B>"
   ]
  },
  {
   "cell_type": "markdown",
   "id": "6a622aec",
   "metadata": {},
   "source": [
    "Create a lambda function named q_9 that takes one argument and returns that argument to the power of 2."
   ]
  },
  {
   "cell_type": "code",
   "execution_count": 42,
   "id": "0f969cee",
   "metadata": {},
   "outputs": [
    {
     "data": {
      "text/plain": [
       "16"
      ]
     },
     "execution_count": 42,
     "metadata": {},
     "output_type": "execute_result"
    }
   ],
   "source": [
    "q_9 = lambda x : x**2\n",
    "q_9(4)"
   ]
  },
  {
   "cell_type": "code",
   "execution_count": 43,
   "id": "82e297d2",
   "metadata": {},
   "outputs": [
    {
     "name": "stdout",
     "output_type": "stream",
     "text": [
      "q_9(3) returns: 9\n",
      "q_9(5) returns: 25\n"
     ]
    }
   ],
   "source": [
    "print(f\"q_9(3) returns: {q_9(3)}\")\n",
    "print(f\"q_9(5) returns: {q_9(5)}\")"
   ]
  },
  {
   "cell_type": "markdown",
   "id": "f2a8dda2",
   "metadata": {},
   "source": [
    "Create a regular function called q_10 that doubles any given argument, using a nested Lambda function. Test it to make sure it behaves as intended."
   ]
  },
  {
   "cell_type": "code",
   "execution_count": 45,
   "id": "3052c9a5",
   "metadata": {},
   "outputs": [
    {
     "name": "stdout",
     "output_type": "stream",
     "text": [
      "q_10(4) returns: 8\n",
      "q_10(-3) returns: -6\n"
     ]
    }
   ],
   "source": [
    "def f_10(n):\n",
    "    return lambda x : x * n\n",
    "\n",
    "q_10 = f_10(2)\n",
    "\n",
    "print(f\"q_10(4) returns: {q_10(4)}\")\n",
    "print(f\"q_10(-3) returns: {q_10(-3)}\")"
   ]
  },
  {
   "cell_type": "markdown",
   "id": "04a87eaa",
   "metadata": {},
   "source": [
    "Use a Lambda function to change i_11 = [\"Data Science\", \"Python\", \"lambda\"] into lower case and save it as a list named q_11."
   ]
  },
  {
   "cell_type": "code",
   "execution_count": 47,
   "id": "09e4bab6",
   "metadata": {},
   "outputs": [
    {
     "name": "stdout",
     "output_type": "stream",
     "text": [
      "before: ['Data Science', 'Python', 'lambda']\n"
     ]
    }
   ],
   "source": [
    "i_11 = [\"Data Science\", \"Python\", \"lambda\"]\n",
    "print(f\"before: {i_11}\")"
   ]
  },
  {
   "cell_type": "code",
   "execution_count": 48,
   "id": "73b3fa4f",
   "metadata": {},
   "outputs": [
    {
     "name": "stdout",
     "output_type": "stream",
     "text": [
      "after: ['data science', 'python', 'lambda']\n"
     ]
    }
   ],
   "source": [
    "q_11 = list(map(lambda x:x.lower(),i_11))\n",
    "print(f\"after: {q_11}\")"
   ]
  },
  {
   "cell_type": "markdown",
   "id": "fe1a0ab5",
   "metadata": {},
   "source": [
    "<B>Important</B>"
   ]
  },
  {
   "cell_type": "code",
   "execution_count": 49,
   "id": "9125d315",
   "metadata": {},
   "outputs": [],
   "source": [
    "import pandas as pd\n",
    "\n",
    "q_12 = pd.DataFrame({'participant_number' : [1, 2, 3, 4],\n",
    "                    'weight' : [65, 80, 43, 89],\n",
    "                    'height' : [1.87, 1.76, 1.53, 1.89]})"
   ]
  },
  {
   "cell_type": "markdown",
   "id": "87788e3d",
   "metadata": {},
   "source": [
    "The data frame above named q_12 includes weights and heights of participants in kilograms and meters, respectively. Calculate their Body Mass Index (BMI) using a Lambda function and store the results in a column with that name in the same data frame. BMI is weight in kilograms divided by height in meters squared."
   ]
  },
  {
   "cell_type": "code",
   "execution_count": 50,
   "id": "fe568dfd",
   "metadata": {},
   "outputs": [
    {
     "data": {
      "text/html": [
       "<div>\n",
       "<style scoped>\n",
       "    .dataframe tbody tr th:only-of-type {\n",
       "        vertical-align: middle;\n",
       "    }\n",
       "\n",
       "    .dataframe tbody tr th {\n",
       "        vertical-align: top;\n",
       "    }\n",
       "\n",
       "    .dataframe thead th {\n",
       "        text-align: right;\n",
       "    }\n",
       "</style>\n",
       "<table border=\"1\" class=\"dataframe\">\n",
       "  <thead>\n",
       "    <tr style=\"text-align: right;\">\n",
       "      <th></th>\n",
       "      <th>participant_number</th>\n",
       "      <th>weight</th>\n",
       "      <th>height</th>\n",
       "    </tr>\n",
       "  </thead>\n",
       "  <tbody>\n",
       "    <tr>\n",
       "      <th>0</th>\n",
       "      <td>1</td>\n",
       "      <td>65</td>\n",
       "      <td>1.87</td>\n",
       "    </tr>\n",
       "    <tr>\n",
       "      <th>1</th>\n",
       "      <td>2</td>\n",
       "      <td>80</td>\n",
       "      <td>1.76</td>\n",
       "    </tr>\n",
       "    <tr>\n",
       "      <th>2</th>\n",
       "      <td>3</td>\n",
       "      <td>43</td>\n",
       "      <td>1.53</td>\n",
       "    </tr>\n",
       "    <tr>\n",
       "      <th>3</th>\n",
       "      <td>4</td>\n",
       "      <td>89</td>\n",
       "      <td>1.89</td>\n",
       "    </tr>\n",
       "  </tbody>\n",
       "</table>\n",
       "</div>"
      ],
      "text/plain": [
       "   participant_number  weight  height\n",
       "0                   1      65    1.87\n",
       "1                   2      80    1.76\n",
       "2                   3      43    1.53\n",
       "3                   4      89    1.89"
      ]
     },
     "execution_count": 50,
     "metadata": {},
     "output_type": "execute_result"
    }
   ],
   "source": [
    "q_12"
   ]
  },
  {
   "cell_type": "code",
   "execution_count": 51,
   "id": "8864bfc9",
   "metadata": {},
   "outputs": [],
   "source": [
    "#define a function to calculate BMI\n",
    "def a_12(a, b):\n",
    "    return a / b**2"
   ]
  },
  {
   "cell_type": "code",
   "execution_count": 52,
   "id": "9d2f180c",
   "metadata": {},
   "outputs": [
    {
     "data": {
      "text/html": [
       "<div>\n",
       "<style scoped>\n",
       "    .dataframe tbody tr th:only-of-type {\n",
       "        vertical-align: middle;\n",
       "    }\n",
       "\n",
       "    .dataframe tbody tr th {\n",
       "        vertical-align: top;\n",
       "    }\n",
       "\n",
       "    .dataframe thead th {\n",
       "        text-align: right;\n",
       "    }\n",
       "</style>\n",
       "<table border=\"1\" class=\"dataframe\">\n",
       "  <thead>\n",
       "    <tr style=\"text-align: right;\">\n",
       "      <th></th>\n",
       "      <th>participant_number</th>\n",
       "      <th>weight</th>\n",
       "      <th>height</th>\n",
       "      <th>bmi</th>\n",
       "    </tr>\n",
       "  </thead>\n",
       "  <tbody>\n",
       "    <tr>\n",
       "      <th>0</th>\n",
       "      <td>1</td>\n",
       "      <td>65</td>\n",
       "      <td>1.87</td>\n",
       "      <td>18.587892</td>\n",
       "    </tr>\n",
       "    <tr>\n",
       "      <th>1</th>\n",
       "      <td>2</td>\n",
       "      <td>80</td>\n",
       "      <td>1.76</td>\n",
       "      <td>25.826446</td>\n",
       "    </tr>\n",
       "    <tr>\n",
       "      <th>2</th>\n",
       "      <td>3</td>\n",
       "      <td>43</td>\n",
       "      <td>1.53</td>\n",
       "      <td>18.369003</td>\n",
       "    </tr>\n",
       "    <tr>\n",
       "      <th>3</th>\n",
       "      <td>4</td>\n",
       "      <td>89</td>\n",
       "      <td>1.89</td>\n",
       "      <td>24.915316</td>\n",
       "    </tr>\n",
       "  </tbody>\n",
       "</table>\n",
       "</div>"
      ],
      "text/plain": [
       "   participant_number  weight  height        bmi\n",
       "0                   1      65    1.87  18.587892\n",
       "1                   2      80    1.76  25.826446\n",
       "2                   3      43    1.53  18.369003\n",
       "3                   4      89    1.89  24.915316"
      ]
     },
     "execution_count": 52,
     "metadata": {},
     "output_type": "execute_result"
    }
   ],
   "source": [
    "#create a new column BMI and assign values to it\n",
    "q_12['bmi'] = q_12.apply(lambda x : a_12(x[\"weight\"], x[\"height\"]), axis = 1)\n",
    "q_12"
   ]
  },
  {
   "cell_type": "code",
   "execution_count": null,
   "id": "aa7160c8",
   "metadata": {},
   "outputs": [],
   "source": []
  }
 ],
 "metadata": {
  "kernelspec": {
   "display_name": "Python 3 (ipykernel)",
   "language": "python",
   "name": "python3"
  },
  "language_info": {
   "codemirror_mode": {
    "name": "ipython",
    "version": 3
   },
   "file_extension": ".py",
   "mimetype": "text/x-python",
   "name": "python",
   "nbconvert_exporter": "python",
   "pygments_lexer": "ipython3",
   "version": "3.9.7"
  }
 },
 "nbformat": 4,
 "nbformat_minor": 5
}
