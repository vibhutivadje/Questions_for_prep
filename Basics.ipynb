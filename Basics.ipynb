{
 "cells": [
  {
   "cell_type": "markdown",
   "id": "59ad033c",
   "metadata": {},
   "source": [
    "Create a list that includes values from 12 to 27 (inclusive). Then create a loop that goes through the list and returns a dictionary with the number and whether that number was odd or even,"
   ]
  },
  {
   "cell_type": "code",
   "execution_count": 7,
   "id": "e886ed26",
   "metadata": {},
   "outputs": [
    {
     "name": "stdout",
     "output_type": "stream",
     "text": [
      "{12: 'Even', 13: 'Odd', 14: 'Even', 15: 'Odd', 16: 'Even', 17: 'Odd', 18: 'Even', 19: 'Odd', 20: 'Even', 21: 'Odd', 22: 'Even', 23: 'Odd', 24: 'Even', 25: 'Odd', 26: 'Even', 27: 'Odd'}\n"
     ]
    }
   ],
   "source": [
    "num_list = list(range(12, 28))\n",
    "d = {}\n",
    "\n",
    "for n in num_list:\n",
    "    if n%2 == 0:\n",
    "        d[n]='Even'\n",
    "    else:\n",
    "        d[n]='Odd'\n",
    "print(d)\n",
    "# print(num_list)"
   ]
  },
  {
   "cell_type": "markdown",
   "id": "f96231cf",
   "metadata": {},
   "source": [
    "How many times can we double 13 before it passes 1,300?"
   ]
  },
  {
   "cell_type": "code",
   "execution_count": 9,
   "id": "00480c2f",
   "metadata": {},
   "outputs": [
    {
     "name": "stdout",
     "output_type": "stream",
     "text": [
      "13 has been doubled 0 times and is now 13.\n",
      "13 has been doubled 1 times and is now 26.\n",
      "13 has been doubled 2 times and is now 52.\n",
      "13 has been doubled 3 times and is now 104.\n",
      "13 has been doubled 4 times and is now 208.\n",
      "13 has been doubled 5 times and is now 416.\n",
      "13 has been doubled 6 times and is now 832.\n"
     ]
    }
   ],
   "source": [
    "x = 13\n",
    "counter = 0\n",
    "\n",
    "while x<1300:\n",
    "    print(f\"13 has been doubled {counter} times and is now {x}.\")\n",
    "    x*=2\n",
    "    counter += 1"
   ]
  },
  {
   "cell_type": "markdown",
   "id": "e2ef6d44",
   "metadata": {},
   "source": [
    "Define a function that determines whether a number is divisible by 3 or not and then test it on 6 and 8.\n",
    "\n"
   ]
  },
  {
   "cell_type": "code",
   "execution_count": 13,
   "id": "4249d0d7",
   "metadata": {},
   "outputs": [
    {
     "name": "stdout",
     "output_type": "stream",
     "text": [
      "8 is indivisible by 3\n"
     ]
    }
   ],
   "source": [
    "def div_by_3(num):\n",
    "    if num%3==0:\n",
    "        print(f\"{num} is divisible by 3\")\n",
    "    else:\n",
    "        print(f\"{num} is indivisible by 3\")\n",
    "        \n",
    "# div_by_3(3)\n",
    "# div_by_3(6)\n",
    "div_by_3(8)"
   ]
  },
  {
   "cell_type": "markdown",
   "id": "8bbc788e",
   "metadata": {},
   "source": [
    "<B>Function Scope:</B>"
   ]
  },
  {
   "cell_type": "code",
   "execution_count": 28,
   "id": "83faa3ec",
   "metadata": {},
   "outputs": [
    {
     "name": "stdout",
     "output_type": "stream",
     "text": [
      "5\n",
      "9\n"
     ]
    }
   ],
   "source": [
    "x = 5\n",
    "def q_2():\n",
    "    global x\n",
    "    x = 9\n",
    "    return x\n",
    "\n",
    "print(x)\n",
    "print(q_2())"
   ]
  },
  {
   "cell_type": "code",
   "execution_count": 33,
   "id": "14fcfb3b",
   "metadata": {},
   "outputs": [
    {
     "name": "stdout",
     "output_type": "stream",
     "text": [
      "5\n"
     ]
    }
   ],
   "source": [
    "y = 5\n",
    "def q_3():\n",
    "    y = 11\n",
    "    return z\n",
    "\n",
    "print(y)\n",
    "# print(q_3())"
   ]
  },
  {
   "cell_type": "markdown",
   "id": "72f742ca",
   "metadata": {},
   "source": [
    "Define a function named outer_function that takes argument x and includes another function nested inside named inner_function, which takes argument y. The inner_function returns the result of x * y. Test the function when x is 4 and y is 6 and therefore we expect a result of 24."
   ]
  },
  {
   "cell_type": "code",
   "execution_count": 37,
   "id": "2f45c408",
   "metadata": {},
   "outputs": [
    {
     "data": {
      "text/plain": [
       "24"
      ]
     },
     "execution_count": 37,
     "metadata": {},
     "output_type": "execute_result"
    }
   ],
   "source": [
    "def outer_function(x):\n",
    "    def inner_function(y):\n",
    "        return x * y\n",
    "    return inner_function\n",
    "\n",
    "a = outer_function(4)\n",
    "a(6)"
   ]
  },
  {
   "cell_type": "code",
   "execution_count": null,
   "id": "e5d8cd53",
   "metadata": {},
   "outputs": [],
   "source": []
  },
  {
   "cell_type": "markdown",
   "id": "34345765",
   "metadata": {},
   "source": [
    "<B>Exception Handling</B>"
   ]
  },
  {
   "cell_type": "markdown",
   "id": "ddb659a8",
   "metadata": {},
   "source": [
    "Exceptions in Python is when an error happens, such as dividing a value by zero, which would generate a ZeroDivisionError: division by zero. In the following examples, we will focus on how to use try and except to convey specific information when an exception occurs.\n",
    "\n",
    "There are a few key words to learn for this topic, which will be more solidified after going through the exercise questions.\n",
    "\n",
    "<B>try block</B> is to test a block of code for errors.<br>\n",
    "<B>except block</B> is to handle the error.<br>\n",
    "<B>else block</B> is to execute code in the absence of an error.<br>\n",
    "<B>finally block</B> is executed regardless of what happened in the try block, unlike else which only happens when there are no errors."
   ]
  },
  {
   "cell_type": "markdown",
   "id": "02679f32",
   "metadata": {},
   "source": [
    "Question 6:\n",
    "\n",
    "Define a function named q_6 that takes two arguments and returns the multiplication of the two arguments. The function is not designed to accept any negative arguments so if any of the two arguments is negative, the function should return a ValueError() class exception that states invalid arguments in a string format. Test out the function on a few scenarios to make sure the function behaves as intended."
   ]
  },
  {
   "cell_type": "code",
   "execution_count": 35,
   "id": "a655bc6b",
   "metadata": {},
   "outputs": [
    {
     "name": "stdout",
     "output_type": "stream",
     "text": [
      "q_6(2, 5) returns: 10\n",
      "q_6(2, -5) returns: invalid arguments\n",
      "q_6(-2, 5) returns: invalid arguments\n",
      "q_6(-2, -5) returns: invalid arguments\n"
     ]
    }
   ],
   "source": [
    "def q_6(x, y):\n",
    "    try:\n",
    "        if x < 0 or y < 0:\n",
    "            raise ValueError(\"invalid arguments\")\n",
    "        return x * y\n",
    "    except ValueError as err:\n",
    "        return str(err)\n",
    "    \n",
    "print(f\"q_6(2, 5) returns: {q_6(2, 5)}\")\n",
    "print(f\"q_6(2, -5) returns: {q_6(2, -5)}\")\n",
    "print(f\"q_6(-2, 5) returns: {q_6(-2, 5)}\")\n",
    "print(f\"q_6(-2, -5) returns: {q_6(-2, -5)}\")"
   ]
  },
  {
   "cell_type": "code",
   "execution_count": 16,
   "id": "e9937ba3",
   "metadata": {},
   "outputs": [],
   "source": [
    "#import lib\n",
    "\n",
    "import numpy as np\n",
    "import pandas as pd"
   ]
  },
  {
   "cell_type": "markdown",
   "id": "fa3a0cf9",
   "metadata": {},
   "source": [
    "Create the data to be included in the dataframe"
   ]
  },
  {
   "cell_type": "code",
   "execution_count": 17,
   "id": "ff3151f1",
   "metadata": {},
   "outputs": [],
   "source": [
    "participants = {\n",
    "    'gender':['female', 'female', 'male', 'female', 'female', 'male', 'male', 'male', 'female'],\n",
    "    'age': [26, 77, 39, 54, 55, 63, 28, 33, 49]\n",
    "}"
   ]
  },
  {
   "cell_type": "markdown",
   "id": "92d18def",
   "metadata": {},
   "source": [
    "Create the dataframe"
   ]
  },
  {
   "cell_type": "code",
   "execution_count": 18,
   "id": "02c80117",
   "metadata": {},
   "outputs": [
    {
     "data": {
      "text/html": [
       "<div>\n",
       "<style scoped>\n",
       "    .dataframe tbody tr th:only-of-type {\n",
       "        vertical-align: middle;\n",
       "    }\n",
       "\n",
       "    .dataframe tbody tr th {\n",
       "        vertical-align: top;\n",
       "    }\n",
       "\n",
       "    .dataframe thead th {\n",
       "        text-align: right;\n",
       "    }\n",
       "</style>\n",
       "<table border=\"1\" class=\"dataframe\">\n",
       "  <thead>\n",
       "    <tr style=\"text-align: right;\">\n",
       "      <th></th>\n",
       "      <th>gender</th>\n",
       "      <th>age</th>\n",
       "    </tr>\n",
       "  </thead>\n",
       "  <tbody>\n",
       "    <tr>\n",
       "      <th>0</th>\n",
       "      <td>female</td>\n",
       "      <td>26</td>\n",
       "    </tr>\n",
       "    <tr>\n",
       "      <th>1</th>\n",
       "      <td>female</td>\n",
       "      <td>77</td>\n",
       "    </tr>\n",
       "    <tr>\n",
       "      <th>2</th>\n",
       "      <td>male</td>\n",
       "      <td>39</td>\n",
       "    </tr>\n",
       "    <tr>\n",
       "      <th>3</th>\n",
       "      <td>female</td>\n",
       "      <td>54</td>\n",
       "    </tr>\n",
       "    <tr>\n",
       "      <th>4</th>\n",
       "      <td>female</td>\n",
       "      <td>55</td>\n",
       "    </tr>\n",
       "    <tr>\n",
       "      <th>5</th>\n",
       "      <td>male</td>\n",
       "      <td>63</td>\n",
       "    </tr>\n",
       "    <tr>\n",
       "      <th>6</th>\n",
       "      <td>male</td>\n",
       "      <td>28</td>\n",
       "    </tr>\n",
       "    <tr>\n",
       "      <th>7</th>\n",
       "      <td>male</td>\n",
       "      <td>33</td>\n",
       "    </tr>\n",
       "    <tr>\n",
       "      <th>8</th>\n",
       "      <td>female</td>\n",
       "      <td>49</td>\n",
       "    </tr>\n",
       "  </tbody>\n",
       "</table>\n",
       "</div>"
      ],
      "text/plain": [
       "   gender  age\n",
       "0  female   26\n",
       "1  female   77\n",
       "2    male   39\n",
       "3  female   54\n",
       "4  female   55\n",
       "5    male   63\n",
       "6    male   28\n",
       "7    male   33\n",
       "8  female   49"
      ]
     },
     "execution_count": 18,
     "metadata": {},
     "output_type": "execute_result"
    }
   ],
   "source": [
    "df = pd.DataFrame(participants)\n",
    "df"
   ]
  },
  {
   "cell_type": "markdown",
   "id": "7a983af7",
   "metadata": {},
   "source": [
    "How many rows and columns are included in the dataframe?"
   ]
  },
  {
   "cell_type": "code",
   "execution_count": 19,
   "id": "4f526f5b",
   "metadata": {},
   "outputs": [
    {
     "name": "stdout",
     "output_type": "stream",
     "text": [
      "there are 9 rows and 2 columns in the dataframe.\n"
     ]
    }
   ],
   "source": [
    "print(f\"there are {df.shape[0]} rows and {df.shape[1]} columns in the dataframe.\")"
   ]
  },
  {
   "cell_type": "markdown",
   "id": "aee4df08",
   "metadata": {},
   "source": [
    "What is the average age of the participants?"
   ]
  },
  {
   "cell_type": "code",
   "execution_count": 20,
   "id": "226f5143",
   "metadata": {},
   "outputs": [
    {
     "data": {
      "text/plain": [
       "47.111111111111114"
      ]
     },
     "execution_count": 20,
     "metadata": {},
     "output_type": "execute_result"
    }
   ],
   "source": [
    "df[\"age\"].mean()"
   ]
  },
  {
   "cell_type": "code",
   "execution_count": 21,
   "id": "50c478ee",
   "metadata": {},
   "outputs": [
    {
     "data": {
      "text/plain": [
       "47.111111111111114"
      ]
     },
     "execution_count": 21,
     "metadata": {},
     "output_type": "execute_result"
    }
   ],
   "source": [
    "# Approach 2\n",
    "np.mean(df[\"age\"])"
   ]
  },
  {
   "cell_type": "code",
   "execution_count": 22,
   "id": "b4788b83",
   "metadata": {},
   "outputs": [
    {
     "data": {
      "text/plain": [
       "5"
      ]
     },
     "execution_count": 22,
     "metadata": {},
     "output_type": "execute_result"
    }
   ],
   "source": [
    "df['gender'][df['gender']=='female'].count()"
   ]
  },
  {
   "cell_type": "markdown",
   "id": "d3f18323",
   "metadata": {},
   "source": [
    "How many total male participants are there, and how many of them are older than 30 years old?"
   ]
  },
  {
   "cell_type": "code",
   "execution_count": 24,
   "id": "02af8b91",
   "metadata": {},
   "outputs": [
    {
     "name": "stdout",
     "output_type": "stream",
     "text": [
      "There are 4 total male participants.\n",
      "\n"
     ]
    }
   ],
   "source": [
    "total_male_participants = df['gender'][df['gender']=='male'].count()\n",
    "print(f\"There are {total_male_participants} total male participants.\\n\")\n"
   ]
  },
  {
   "cell_type": "code",
   "execution_count": 26,
   "id": "f2c0a7a3",
   "metadata": {},
   "outputs": [
    {
     "name": "stdout",
     "output_type": "stream",
     "text": [
      "There are 3 males participants above age of 30.\n"
     ]
    }
   ],
   "source": [
    "male_above_30 = df['gender'][(df['gender']=='male')&(df['age']>30)].count()\n",
    "print(f\"There are {male_above_30} males participants above age of 30.\")"
   ]
  },
  {
   "cell_type": "code",
   "execution_count": null,
   "id": "24cf5369",
   "metadata": {},
   "outputs": [],
   "source": []
  }
 ],
 "metadata": {
  "kernelspec": {
   "display_name": "Python 3 (ipykernel)",
   "language": "python",
   "name": "python3"
  },
  "language_info": {
   "codemirror_mode": {
    "name": "ipython",
    "version": 3
   },
   "file_extension": ".py",
   "mimetype": "text/x-python",
   "name": "python",
   "nbconvert_exporter": "python",
   "pygments_lexer": "ipython3",
   "version": "3.9.7"
  }
 },
 "nbformat": 4,
 "nbformat_minor": 5
}
